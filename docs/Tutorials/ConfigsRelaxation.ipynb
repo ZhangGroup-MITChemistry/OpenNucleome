{
 "cells": [
  {
   "cell_type": "markdown",
   "id": "c4185e43-9c43-400c-9688-7b3831dacecb",
   "metadata": {},
   "source": [
    "## Tutorials: Configuration Relaxation"
   ]
  },
  {
   "cell_type": "markdown",
   "id": "d6a51082-cf33-419d-9a75-8131edf8927a",
   "metadata": {},
   "source": [
    "### Import the necessary packages"
   ]
  },
  {
   "cell_type": "code",
   "execution_count": 1,
   "id": "d7dfe668-ce05-48b3-98ba-a5b73e0df96d",
   "metadata": {},
   "outputs": [],
   "source": [
    "import parmed as pmd\n",
    "import json\n",
    "import sys\n",
    "from sys import platform\n",
    "import mdtraj as md\n",
    "import simtk.openmm.app as mmapp\n",
    "import mdtraj.reporters\n",
    "import simtk.unit as u\n",
    "import random\n",
    "from openNucleome import OpenNucleome\n",
    "import warnings\n",
    "import numpy as np"
   ]
  },
  {
   "cell_type": "markdown",
   "id": "d8c3b70a-21f3-4228-bb57-945965ebee06",
   "metadata": {},
   "source": [
    "### Important parameters\n",
    "We defined the important parameters in the next block. First, we set the transition probability between dP particles and P particles as 0.2, and the transition frequency as 4000. When creating the system, we set type 6, 7 as the dP and P particles, respectively, so we kept using 6, 7 here. In this example, we ran a simulation with total length of 100,000 steps, and output one configuration and the energy every 2000 steps."
   ]
  },
  {
   "cell_type": "code",
   "execution_count": 2,
   "id": "5a6e5ed3-5b95-4568-af71-336b5564cafa",
   "metadata": {},
   "outputs": [],
   "source": [
    "prob_P_dP = 0.2 # Transition probability from P to dP\n",
    "prob_dP_P = 0.2 # Transition probability from dP to P\n",
    "transition_freq = 4000\n",
    "sampling_freq = 2000\n",
    "dP_type = 6\n",
    "P_type = 7\n",
    "total_steps = 100000"
   ]
  },
  {
   "cell_type": "markdown",
   "id": "95f76ca2-43ed-4768-9fce-257348ea81c0",
   "metadata": {},
   "source": [
    "### Initialize the system\n",
    "We first set up an example \"model\" of class \"OpenNucleome\" with the conserved temperature, damping coefficient, timestep, and the mass scale. In this folder, we also included the initial configuration \"human.pdb\" used for the simulation and created a system according to the initial configuration.\n",
    "\n",
    "In this example, we freezed all the lamina beads, and would not consider the dynamics of the membrane, and that is why we set \"False\" (off) for membrane dynamics. Consequently, there was also no need to set the bond between lamina beads, so we set \"None\" for the variable \"lam_bond\"."
   ]
  },
  {
   "cell_type": "code",
   "execution_count": 3,
   "id": "b0b6fb41-d073-4be8-8832-24896e0f068f",
   "metadata": {},
   "outputs": [],
   "source": [
    "model = OpenNucleome(1.0, 0.1, 0.005, 1.0) # 1.0: temperature (LJ reduced unit); \n",
    "                                           # 0.1: damping coefficient (LJ reduced unit);\n",
    "                                           # 0.005: timestep (LJ reduced unit);\n",
    "                                           # 1.0: mass_scale\n",
    "    \n",
    "PDB_file = \"human.pdb\" #The initial configuration\n",
    "\n",
    "# Generate new elements and construct topology as well\n",
    "# flag_membrane: True for including lamina dynamics, False for excluding lamina dynamics;\n",
    "# lam_bond: A file contains the lamina bond when membrane_dynamics is on.\n",
    "\n",
    "warnings.filterwarnings(\"ignore\")\n",
    "model.create_system(PDB_file, flag_membrane = False, lam_bond = None) "
   ]
  },
  {
   "cell_type": "markdown",
   "id": "3eee92a7-e149-45ef-b201-7b02fa5948c6",
   "metadata": {},
   "source": [
    "### Add the force field\n",
    "In this example, we loaded default settings for the interactions between chromosomes and chromosomes, and chromosomes and nuclear landmarks. All the types of potential can be found in \"Section: Energy function of the whole nucleus model\" in Supporting Information. According to the order of added potential, the index of speckle-speckle potential is 6, and this index is needed when transiting the speckle particle between type 6 and type 7.\n",
    "\n",
    "Because during the simulations, we would transit the dP speckle and P speckle particles, here, we logged the start index and end index of speckle particle, and computed the number of speckle particles."
   ]
  },
  {
   "cell_type": "code",
   "execution_count": 4,
   "id": "9c8cf2a5-8071-4e29-82d5-c087905883bf",
   "metadata": {},
   "outputs": [],
   "source": [
    "# Add the default force field\n",
    "model.load_default_settings()\n",
    "\n",
    "index_spec_spec_potential = 6\n",
    "start_spec_index = model.N_chr_nuc+1\n",
    "end_spec_index = model.N_chr_nuc_spec+1\n",
    "N_spec = end_spec_index-start_spec_index #Currently, the number of speckle is 1600."
   ]
  },
  {
   "cell_type": "markdown",
   "id": "d5d920a1-35a3-4258-a774-2d351b3efc46",
   "metadata": {},
   "source": [
    "### Perform the simulation\n",
    "We first created the simulation with a specific Platform, and here, we used \"CUDA\" but users can also use \"CPU\", \"Reference\", and \"OpenCL\" according to their hardware. Before the simulation, we minimized the energy to make the system much more reasonable and stable. After randomly setting velocity, we started our simulation with a total length of 100,000 steps and output the configuration and energy every 2000 steps, and change the speckle types every 4000 steps as we mentioned in the previous blocks."
   ]
  },
  {
   "cell_type": "code",
   "execution_count": 5,
   "id": "f64c55d0-1db4-4897-a4be-1a774f26281e",
   "metadata": {},
   "outputs": [
    {
     "name": "stdout",
     "output_type": "stream",
     "text": [
      "#\"Progress (%)\"\t\"Step\"\t\"Potential Energy (kJ/mole)\"\t\"Kinetic Energy (kJ/mole)\"\t\"Temperature (K)\"\t\"Time Remaining\"\n",
      "2.0%\t2000\t325824.9012790561\t253718.28625723682\t325.2779018426273\t--\n",
      "4.0%\t4000\t216297.54893910702\t157532.37797415254\t201.9633749526419\t14:39\n",
      "6.0%\t6000\t163174.49009104457\t123744.81139975098\t158.64624190001416\t14:02\n",
      "8.0%\t8000\t135848.94451167368\t108153.7636143395\t138.65783906954164\t13:29\n",
      "10.0%\t10000\t122447.56926168935\t102017.19437120412\t130.7904898241849\t13:03\n",
      "12.0%\t12000\t115295.71668928339\t97546.5169125361\t125.05888645801569\t12:38\n",
      "14.0%\t14000\t112856.11996627762\t96358.18676085146\t123.53539540761338\t12:17\n",
      "16.0%\t16000\t110489.08996643472\t94977.27822022025\t121.76501046863552\t11:56\n",
      "18.0%\t18000\t110129.66192413884\t94345.22282803494\t120.95468790635118\t11:36\n",
      "20.0%\t20000\t108719.83612601759\t94114.95561157017\t120.65947529814815\t11:17\n",
      "22.0%\t22000\t109468.96401651281\t94216.95392411646\t120.79024158064979\t10:58\n",
      "24.0%\t24000\t108491.77718385821\t94234.21537573132\t120.81237151399777\t10:39\n",
      "26.0%\t26000\t109595.30924856887\t94433.99852387972\t121.0685022179051\t10:21\n",
      "28.0%\t28000\t108964.42185488847\t94664.54424329262\t121.3640718790268\t10:03\n",
      "30.0%\t30000\t109286.23308788933\t94079.6055726478\t120.61415500744167\t9:45\n",
      "32.0%\t32000\t108147.00138836575\t94341.9956438655\t120.95055051558217\t9:27\n",
      "34.0%\t34000\t109524.33733194403\t94654.33828138061\t121.35098739100665\t9:10\n",
      "36.0%\t36000\t109491.18386965976\t93820.44197502498\t120.28189597908269\t8:52\n",
      "38.0%\t38000\t109645.4609277629\t94527.55877868111\t121.18845054258676\t8:35\n",
      "40.0%\t40000\t108532.96340606987\t94300.53621001076\t120.89739771428118\t8:17\n",
      "42.0%\t42000\t109553.52439702288\t94371.84196157324\t120.98881479579985\t8:00\n",
      "44.0%\t44000\t108965.41392489348\t94141.48941979161\t120.69349279682153\t7:43\n",
      "46.0%\t46000\t109521.78113204503\t94809.34603504994\t121.5497140875593\t7:26\n",
      "48.0%\t48000\t108935.30170746756\t94353.39151312297\t120.96516051668387\t7:08\n",
      "50.0%\t50000\t109383.34366901597\t94101.00788542983\t120.6415937052944\t6:52\n",
      "52.0%\t52000\t109074.81025410036\t94258.37572415144\t120.84334613375347\t6:35\n",
      "54.0%\t54000\t109320.89404212935\t94787.54800630709\t121.52176806459667\t6:18\n",
      "56.0%\t56000\t109149.97307478375\t94415.5757406821\t121.04488340684887\t6:01\n",
      "58.0%\t58000\t108835.64476385018\t94388.85585755407\t121.01062735203477\t5:44\n",
      "60.0%\t60000\t108362.50706955124\t94004.06423361001\t120.51730771816243\t5:28\n",
      "62.0%\t62000\t109450.73280549009\t94243.20491193199\t120.82389649123543\t5:11\n",
      "64.0%\t64000\t109202.67104561432\t94417.50510535993\t121.04735693646137\t4:54\n",
      "66.0%\t66000\t109333.8293095401\t94470.79368820248\t121.11567522236379\t4:38\n",
      "68.0%\t68000\t108381.23368891675\t94189.25256092062\t120.75472722560883\t4:21\n",
      "70.0%\t70000\t108681.91502992256\t94243.66470495539\t120.82448596593251\t4:05\n",
      "72.0%\t72000\t108464.77434333146\t94519.65243408151\t121.17831426419492\t3:48\n",
      "74.0%\t74000\t108328.66876021262\t94104.35574412254\t120.64588580606211\t3:32\n",
      "76.0%\t76000\t107006.36053148753\t94208.60363761964\t120.77953614939555\t3:15\n",
      "78.0%\t78000\t107757.14838812433\t94234.43347238329\t120.81265112341181\t2:59\n",
      "80.0%\t80000\t107597.99196090866\t94341.0542054882\t120.94934355054782\t2:42\n",
      "82.0%\t82000\t107800.64497968517\t94505.334107472\t121.15995754538626\t2:26\n",
      "84.0%\t84000\t106901.05301068591\t94625.27177429813\t121.31372286200028\t2:10\n",
      "86.0%\t86000\t108257.33008478784\t94042.3610276673\t120.56640587739255\t1:53\n",
      "88.0%\t88000\t107104.37832885009\t94241.5487076363\t120.82177316513912\t1:37\n",
      "90.0%\t90000\t106835.5525453899\t94653.49432364955\t121.3499054004097\t1:21\n",
      "92.0%\t92000\t107315.37759969692\t94001.00443199907\t120.51338491912911\t1:05\n",
      "94.0%\t94000\t107269.5847372288\t94255.05350785749\t120.83908690765864\t0:48\n",
      "96.0%\t96000\t106599.93549188794\t93814.41152402015\t120.27416467804423\t0:32\n",
      "98.0%\t98000\t107295.65437768203\t93820.53465544965\t120.28201479942679\t0:16\n",
      "100.0%\t100000\t106529.75888823696\t94594.83571739886\t121.27470251043397\t0:00\n"
     ]
    }
   ],
   "source": [
    "#model.save_system(\"model_before_simulation_0.xml\")\n",
    "\n",
    "simulation = model.create_simulation(platform_type = \"CUDA\") # Users can also use CPU, Reference, OpenCL.\n",
    "simulation.context.setPositions(model.chr_positions)\n",
    "\n",
    "simulation.minimizeEnergy()\n",
    "\n",
    "simulation.reporters.append(mdtraj.reporters.DCDReporter('step_100000.dcd', sampling_freq))\n",
    "\n",
    "def setVelocity(context):\n",
    "    sigma = u.sqrt(1.0*u.kilojoule_per_mole / model.chr_system.getParticleMass(1))\n",
    "    velocs = u.Quantity(1.0 * np.random.normal(size=(model.chr_system.getNumParticles(), 3)),\n",
    "                        u.meter) * (sigma / u.meter)\n",
    "    context.setVelocities(velocs)\n",
    "setVelocity(simulation.context)\n",
    "\n",
    "simulation.reporters.append(mmapp.statedatareporter.StateDataReporter(sys.stdout, sampling_freq, step=True,\n",
    "    potentialEnergy=True, kineticEnergy=True, temperature=True, progress=True,\n",
    "    remainingTime=True, separator='\\t', totalSteps = total_steps))\n",
    "\n",
    "for i in range(total_steps//transition_freq):\n",
    "    simulation.step(transition_freq)\n",
    "    # Change the type of speckles every 4000 steps, non-equilibrium scheme.\n",
    "\n",
    "    # Do the chemical modification, and change the spec-spec potential on the fly.\n",
    "    for j in np.random.randint(start_spec_index-1, end_spec_index-1, N_spec): \n",
    "\n",
    "        if model.compart_type[j] == dP_type-1:\n",
    "            model.compart_type[j] = P_type-1 if random.random() < prob_dP_P else dP_type-1\n",
    "        else:\n",
    "            model.compart_type[j] = dP_type-1 if random.random() < prob_P_dP else P_type-1\n",
    "\n",
    "    # Update the context after changing the type of speckles.\n",
    "    for m in range(model.chr_system.getNumParticles()):\n",
    "        model.chr_system.getForce(index_spec_spec_potential).setParticleParameters(m, [model.compart_type[m]])\n",
    "    model.chr_system.getForce(index_spec_spec_potential).updateParametersInContext(simulation.context)\n",
    "\n",
    "# Keep the final result of spec types in case constructing the configuration for the continuous simulation.\n",
    "np.savetxt('compt_final_frame.txt', (np.array(model.compart_type)+1).reshape((-1,1)), fmt='%d')"
   ]
  }
 ],
 "metadata": {
  "kernelspec": {
   "display_name": "Python 3",
   "language": "python",
   "name": "python3"
  },
  "language_info": {
   "codemirror_mode": {
    "name": "ipython",
    "version": 3
   },
   "file_extension": ".py",
   "mimetype": "text/x-python",
   "name": "python",
   "nbconvert_exporter": "python",
   "pygments_lexer": "ipython3",
   "version": "3.8.8"
  }
 },
 "nbformat": 4,
 "nbformat_minor": 5
}
