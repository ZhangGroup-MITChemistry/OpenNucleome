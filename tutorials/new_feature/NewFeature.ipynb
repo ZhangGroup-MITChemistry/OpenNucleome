{
 "cells": [
  {
   "cell_type": "markdown",
   "id": "c4185e43-9c43-400c-9688-7b3831dacecb",
   "metadata": {},
   "source": [
    "## Import the necessary packages"
   ]
  },
  {
   "cell_type": "code",
   "execution_count": 1,
   "id": "d7dfe668-ce05-48b3-98ba-a5b73e0df96d",
   "metadata": {},
   "outputs": [],
   "source": [
    "import parmed as pmd\n",
    "import json\n",
    "import sys\n",
    "from sys import platform\n",
    "import mdtraj as md\n",
    "import simtk.openmm.app as mmapp\n",
    "import mdtraj.reporters\n",
    "import simtk.unit as u\n",
    "import random\n",
    "from whole_nucleus_model import OpenNucleome\n",
    "import warnings\n",
    "import numpy as np"
   ]
  },
  {
   "cell_type": "markdown",
   "id": "d8c3b70a-21f3-4228-bb57-945965ebee06",
   "metadata": {},
   "source": [
    "### Important parameters\n",
    "We defined the important parameters in the next block. First, we set the transition probability between dP particles and P particles as 0.2, and the transition frequency as 4000. When creating the system, we set type 6, 7 as the dP and P particles, respectively, so we kept using 6, 7 here. In this example, we ran a simulation with total length of 100,000 steps, and output one configuration and the energy every 2000 steps."
   ]
  },
  {
   "cell_type": "code",
   "execution_count": 2,
   "id": "5a6e5ed3-5b95-4568-af71-336b5564cafa",
   "metadata": {},
   "outputs": [],
   "source": [
    "prob_P_dP = 0.2 # Transition probability from P to dP\n",
    "prob_dP_P = 0.2 # Transition probability from dP to P\n",
    "transition_freq = 4000\n",
    "sampling_freq = 2000\n",
    "dP_type = 6\n",
    "P_type = 7\n",
    "total_steps = 100000"
   ]
  },
  {
   "cell_type": "markdown",
   "id": "95f76ca2-43ed-4768-9fce-257348ea81c0",
   "metadata": {},
   "source": [
    "### Initialize the system\n",
    "We first set up an example \"model\" of class \"OpenNucleome\" with the conserved temperature, damping coefficient, timestep, and the mass scale. In this folder, we also included the initial configuration \"human.pdb\" used for the simulation and created a system according to the initial configuration.\n",
    "\n",
    "In this example, we freezed all the lamina beads, and would not consider the dynamics of the membrane, and that is why we set \"False\" (off) for membrane dynamics. Consequently, there was also no need to set the bond between lamina beads, so we set \"None\" for the variable \"lam_bond\"."
   ]
  },
  {
   "cell_type": "code",
   "execution_count": 3,
   "id": "b0b6fb41-d073-4be8-8832-24896e0f068f",
   "metadata": {},
   "outputs": [],
   "source": [
    "model = OpenNucleome(1.0, 0.1, 0.005, 1.0) # 1.0: temperature (LJ reduced unit); \n",
    "                                           # 0.1: damping coefficient (LJ reduced unit);\n",
    "                                           # 0.005: timestep (LJ reduced unit);\n",
    "                                           # 1.0: mass_scale\n",
    "    \n",
    "PDB_file = \"human.pdb\" #The initial configuration\n",
    "\n",
    "# Generate new elements and construct topology as well\n",
    "# flag_membrane: True for including lamina dynamics, False for excluding lamina dynamics;\n",
    "# lam_bond: A file contains the lamina bond when membrane_dynamics is on.\n",
    "\n",
    "warnings.filterwarnings(\"ignore\")\n",
    "model.create_system(PDB_file, flag_membrane = False, lam_bond = None) "
   ]
  },
  {
   "cell_type": "markdown",
   "id": "3eee92a7-e149-45ef-b201-7b02fa5948c6",
   "metadata": {},
   "source": [
    "### Add the force field\n",
    "In this example, we loaded default settings for the interactions between chromosomes and chromosomes, and chromosomes and nuclear landmarks. All the types of potential can be found in \"Section: Energy function of the whole nucleus model\" in Supporting Information. According to the order of added potential, the index of speckle-speckle potential is 6, and this index is needed when transiting the speckle particle between type 6 and type 7.\n",
    "\n",
    "Because during the simulations, we would transit the dP speckle and P speckle particles, here, we logged the start index and end index of speckle particle, and computed the number of speckle particles."
   ]
  },
  {
   "cell_type": "code",
   "execution_count": 4,
   "id": "9c8cf2a5-8071-4e29-82d5-c087905883bf",
   "metadata": {},
   "outputs": [],
   "source": [
    "# Add the default force field\n",
    "model.load_default_settings()\n",
    "\n",
    "index_spec_spec_potential = 6\n",
    "start_spec_index = model.N_chr_nuc+1\n",
    "end_spec_index = model.N_chr_nuc_spec+1\n",
    "N_spec = end_spec_index-start_spec_index #Currently, the number of speckle is 800."
   ]
  },
  {
   "cell_type": "markdown",
   "id": "d5d920a1-35a3-4258-a774-2d351b3efc46",
   "metadata": {},
   "source": [
    "### Perform the simulation\n",
    "We first created the simulation with a specific Platform, and here, we used \"CUDA\" but users can also use \"CPU\", \"Reference\", and \"OpenCL\" according to their hardware. Before the simulation, we minimized the energy to make the system much more reasonable and stable. After randomly setting velocity, we started our simulation with a total length of 100,000 steps and output the configuration and energy every 2000 steps, and change the speckle types every 4000 steps as we mentioned in the previous blocks."
   ]
  },
  {
   "cell_type": "code",
   "execution_count": 5,
   "id": "f64c55d0-1db4-4897-a4be-1a774f26281e",
   "metadata": {},
   "outputs": [
    {
     "name": "stdout",
     "output_type": "stream",
     "text": [
      "#\"Progress (%)\"\t\"Step\"\t\"Potential Energy (kJ/mole)\"\t\"Kinetic Energy (kJ/mole)\"\t\"Temperature (K)\"\t\"Time Remaining\"\n",
      "2.0%\t2000\t306799.08412145695\t233494.4514561628\t299.8294691184585\t--\n",
      "4.0%\t4000\t210360.75981436405\t149017.06429083747\t191.35232977603047\t14:23\n",
      "6.0%\t6000\t159979.26129925327\t119862.47799757704\t153.91501991208403\t14:02\n",
      "8.0%\t8000\t136672.6742636031\t105715.76168564662\t135.74926729944917\t13:28\n",
      "10.0%\t10000\t124798.94417073905\t100293.73359045244\t128.78685857757574\t13:04\n",
      "12.0%\t12000\t118664.40724079864\t97270.41703671894\t124.90462757966637\t12:37\n",
      "14.0%\t14000\t115750.64682750124\t95802.56755083191\t123.01976680736686\t12:14\n",
      "16.0%\t16000\t113414.84327361535\t95059.73584898179\t122.06589902412364\t11:52\n",
      "18.0%\t18000\t113006.28984415889\t94299.45446750711\t121.08962416377221\t11:34\n",
      "20.0%\t20000\t112568.27227400709\t94074.67071548564\t120.80098007559478\t11:14\n",
      "22.0%\t22000\t111424.0603497342\t94415.4419300897\t121.23856328893623\t10:56\n",
      "24.0%\t24000\t110980.18325266278\t93792.68145352785\t120.43887857732521\t10:37\n",
      "26.0%\t26000\t110044.22771835054\t94449.99966610025\t121.28293876585812\t10:19\n",
      "28.0%\t28000\t110228.66607675613\t93688.25050557635\t120.30477913518186\t10:01\n",
      "30.0%\t30000\t109944.89046133292\t93590.77511677664\t120.17961130402499\t9:44\n",
      "32.0%\t32000\t110313.47592490079\t93802.41533773666\t120.45137782652186\t9:25\n",
      "34.0%\t34000\t110526.43491510506\t93726.28942299323\t120.35362478587642\t9:08\n",
      "36.0%\t36000\t109699.89246864183\t94280.3844792371\t121.06513645357852\t8:50\n",
      "38.0%\t38000\t109363.24224699798\t93789.90221527168\t120.43530976647892\t8:33\n",
      "40.0%\t40000\t109498.3038687729\t93803.2193410283\t120.4524102445455\t8:15\n",
      "42.0%\t42000\t109440.3536297668\t93968.03698154175\t120.66405204309069\t7:58\n",
      "44.0%\t44000\t109293.21119404379\t94082.67382350666\t120.81125684069252\t7:40\n",
      "46.0%\t46000\t108964.71756355735\t94107.71713381812\t120.84341487437952\t7:23\n",
      "48.0%\t48000\t108913.4419181456\t93981.85297808284\t120.68179311951639\t7:06\n",
      "50.0%\t50000\t108574.04734213967\t94012.76821013326\t120.72149126889656\t6:49\n",
      "52.0%\t52000\t108825.67895758688\t93698.05476229024\t120.31736874948446\t6:32\n",
      "54.0%\t54000\t108640.09956083981\t93635.74463379374\t120.23735651522665\t6:15\n",
      "56.0%\t56000\t108515.22756938831\t93534.2627416485\t120.10704394609584\t5:58\n",
      "58.0%\t58000\t108224.84764284958\t94291.59773278947\t121.07953535615943\t5:41\n",
      "60.0%\t60000\t108443.94231021884\t94458.06396043925\t121.29329410010867\t5:25\n",
      "62.0%\t62000\t108717.89828557799\t93817.15066984533\t120.4702994187733\t5:08\n",
      "64.0%\t64000\t107887.4955170605\t93152.92025078558\t119.61736328826998\t4:51\n",
      "66.0%\t66000\t108268.581560238\t94008.73755147353\t120.71631551316186\t4:35\n",
      "68.0%\t68000\t107758.42580234926\t94196.88854531388\t120.95791959516657\t4:18\n",
      "70.0%\t70000\t108813.12012617227\t93971.58627364518\t120.66860967758899\t4:02\n",
      "72.0%\t72000\t108196.66571189363\t93907.1381788937\t120.58585208778536\t3:46\n",
      "74.0%\t74000\t108047.19306693888\t93488.97962406604\t120.04889604142355\t3:29\n",
      "76.0%\t76000\t107872.30640313913\t93654.77193401597\t120.2617894098364\t3:13\n",
      "78.0%\t78000\t108151.83165245182\t93202.18723396682\t119.68062686185888\t2:57\n",
      "80.0%\t80000\t108121.72452425619\t94212.83636060957\t120.97839813315275\t2:40\n",
      "82.0%\t82000\t107876.72965309006\t93915.1610638983\t120.59615424844368\t2:24\n",
      "84.0%\t84000\t107846.69488262333\t93889.32300910733\t120.56297568594374\t2:08\n",
      "86.0%\t86000\t107133.18932683268\t93562.8759510717\t120.14378607567377\t1:52\n",
      "88.0%\t88000\t107097.81276544434\t94007.25154626569\t120.71440733868579\t1:36\n",
      "90.0%\t90000\t107366.22610736253\t94436.26039755797\t121.26529621560728\t1:20\n",
      "92.0%\t92000\t107200.69548613299\t93800.4733606323\t120.44888414000978\t1:03\n",
      "94.0%\t94000\t107577.12690888828\t93629.18391679614\t120.228931919772\t0:47\n",
      "96.0%\t96000\t106947.34713182217\t93808.26736025751\t120.45889238969352\t0:31\n",
      "98.0%\t98000\t107011.60997364667\t93652.8496061667\t120.25932095486915\t0:15\n",
      "100.0%\t100000\t106983.52982191494\t93415.22761324419\t119.95419132311771\t0:00\n"
     ]
    }
   ],
   "source": [
    "#model.save_system(\"model_before_simulation_0.xml\")\n",
    "\n",
    "simulation = model.create_simulation(platform_type = \"CUDA\") # Users can also use CPU, Reference, OpenCL.\n",
    "simulation.context.setPositions(model.chr_positions)\n",
    "\n",
    "simulation.minimizeEnergy()\n",
    "\n",
    "simulation.reporters.append(mdtraj.reporters.DCDReporter('step_100000.dcd', sampling_freq))\n",
    "\n",
    "def setVelocity(context):\n",
    "    sigma = u.sqrt(1.0*u.kilojoule_per_mole / model.chr_system.getParticleMass(1))\n",
    "    velocs = u.Quantity(1.0 * np.random.normal(size=(model.chr_system.getNumParticles(), 3)),\n",
    "                        u.meter) * (sigma / u.meter)\n",
    "    context.setVelocities(velocs)\n",
    "setVelocity(simulation.context)\n",
    "\n",
    "simulation.reporters.append(mmapp.statedatareporter.StateDataReporter(sys.stdout, sampling_freq, step=True,\n",
    "    potentialEnergy=True, kineticEnergy=True, temperature=True, progress=True,\n",
    "    remainingTime=True, separator='\\t', totalSteps = total_steps))\n",
    "\n",
    "for i in range(total_steps//transition_freq):\n",
    "    simulation.step(transition_freq)\n",
    "    # Change the type of speckles every 4000 steps, non-equilibrium scheme.\n",
    "\n",
    "    # Do the chemical modification, and change the spec-spec potential on the fly.\n",
    "    for j in np.random.randint(start_spec_index-1, end_spec_index-1, N_spec): \n",
    "\n",
    "        if model.compart_type[j] == dP_type-1:\n",
    "            model.compart_type[j] = P_type-1 if random.random() < prob_dP_P else dP_type-1\n",
    "        else:\n",
    "            model.compart_type[j] = dP_type-1 if random.random() < prob_P_dP else P_type-1\n",
    "\n",
    "    # Update the context after changing the type of speckles.\n",
    "    for m in range(model.chr_system.getNumParticles()):\n",
    "        model.chr_system.getForce(index_spec_spec_potential).setParticleParameters(m, [model.compart_type[m]])\n",
    "    model.chr_system.getForce(index_spec_spec_potential).updateParametersInContext(simulation.context)\n",
    "\n",
    "# Keep the final result of spec types in case constructing the configuration for the continuous simulation.\n",
    "np.savetxt('compt_final_frame.txt', (np.array(model.compart_type)+1).reshape((-1,1)), fmt='%d')"
   ]
  }
 ],
 "metadata": {
  "kernelspec": {
   "display_name": "Python [conda env:anaconda3-openmm]",
   "language": "python",
   "name": "conda-env-anaconda3-openmm-py"
  },
  "language_info": {
   "codemirror_mode": {
    "name": "ipython",
    "version": 3
   },
   "file_extension": ".py",
   "mimetype": "text/x-python",
   "name": "python",
   "nbconvert_exporter": "python",
   "pygments_lexer": "ipython3",
   "version": "3.6.15"
  }
 },
 "nbformat": 4,
 "nbformat_minor": 5
}
