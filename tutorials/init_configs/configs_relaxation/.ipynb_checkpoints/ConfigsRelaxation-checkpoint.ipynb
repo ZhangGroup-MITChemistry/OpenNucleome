{
 "cells": [
  {
   "cell_type": "markdown",
   "id": "c4185e43-9c43-400c-9688-7b3831dacecb",
   "metadata": {},
   "source": [
    "## Tutorials: Configuration Relaxation"
   ]
  },
  {
   "cell_type": "markdown",
   "id": "d6a51082-cf33-419d-9a75-8131edf8927a",
   "metadata": {},
   "source": [
    "### Import the necessary packages"
   ]
  },
  {
   "cell_type": "code",
   "execution_count": 1,
   "id": "d7dfe668-ce05-48b3-98ba-a5b73e0df96d",
   "metadata": {},
   "outputs": [],
   "source": [
    "import parmed as pmd\n",
    "import json\n",
    "import sys\n",
    "from sys import platform\n",
    "import mdtraj as md\n",
    "import simtk.openmm.app as mmapp\n",
    "import mdtraj.reporters\n",
    "import simtk.unit as u\n",
    "import random\n",
    "from openNucleome import OpenNucleome\n",
    "from openNucleome.utils import coor_transformation, final_frame\n",
    "import warnings\n",
    "import numpy as np"
   ]
  },
  {
   "cell_type": "markdown",
   "id": "d8c3b70a-21f3-4228-bb57-945965ebee06",
   "metadata": {},
   "source": [
    "### Important parameters\n",
    "We defined the important parameters in the next block. First, we set the transition probability between dP particles and P particles as 0.2, and the transition frequency as 4000. When creating the system, we set type 6, 7 as the dP and P particles, respectively, so we kept using 6, 7 here. In this example, we ran a simulation with total length of 100,000 steps, and output one configuration and the energy every 2000 steps."
   ]
  },
  {
   "cell_type": "code",
   "execution_count": 2,
   "id": "5a6e5ed3-5b95-4568-af71-336b5564cafa",
   "metadata": {},
   "outputs": [],
   "source": [
    "prob_P_dP = 0.2 # Transition probability from P to dP\n",
    "prob_dP_P = 0.2 # Transition probability from dP to P\n",
    "transition_freq = 4000\n",
    "sampling_freq = 2000\n",
    "dP_type = 6\n",
    "P_type = 7\n",
    "total_steps = 100000"
   ]
  },
  {
   "cell_type": "markdown",
   "id": "95f76ca2-43ed-4768-9fce-257348ea81c0",
   "metadata": {},
   "source": [
    "### Initialize the system\n",
    "We first set up an example \"model\" of class \"OpenNucleome\" with the conserved temperature, damping coefficient, timestep, and the mass scale. In this folder, we also included the initial configuration \"human.pdb\" used for the simulation and created a system according to the initial configuration.\n",
    "\n",
    "In this example, we freezed all the lamina beads, and would not consider the dynamics of the membrane, and that is why we set \"False\" (off) for membrane dynamics. Consequently, there was also no need to set the bond between lamina beads, so we set \"None\" for the variable \"lam_bond\"."
   ]
  },
  {
   "cell_type": "code",
   "execution_count": 3,
   "id": "b0b6fb41-d073-4be8-8832-24896e0f068f",
   "metadata": {},
   "outputs": [],
   "source": [
    "model = OpenNucleome(1.0, 0.1, 0.005, 1.0) # 1.0: temperature (LJ reduced unit); \n",
    "                                           # 0.1: damping coefficient (LJ reduced unit);\n",
    "                                           # 0.005: timestep (LJ reduced unit);\n",
    "                                           # 1.0: mass_scale\n",
    "    \n",
    "PDB_file = \"../configs_generation/init_config_pool/human_1.pdb\" #The initial configuration\n",
    "\n",
    "# Generate new elements and construct topology as well\n",
    "# flag_membrane: True for including lamina dynamics, False for excluding lamina dynamics;\n",
    "# lam_bond: A file contains the lamina bond when membrane_dynamics is on.\n",
    "\n",
    "warnings.filterwarnings(\"ignore\")\n",
    "model.create_system(PDB_file, flag_membrane = False, lam_bond = None) "
   ]
  },
  {
   "cell_type": "markdown",
   "id": "3eee92a7-e149-45ef-b201-7b02fa5948c6",
   "metadata": {},
   "source": [
    "### Add the force field\n",
    "In this example, we loaded default settings for the interactions between chromosomes and chromosomes, and chromosomes and nuclear landmarks. All the types of potential can be found in \"Section: Energy function of the whole nucleus model\" in Supporting Information. According to the order of added potential, the index of speckle-speckle potential is 6, and this index is needed when transiting the speckle particle between type 6 and type 7.\n",
    "\n",
    "Because during the simulations, we would transit the dP speckle and P speckle particles, here, we logged the start index and end index of speckle particle, and computed the number of speckle particles."
   ]
  },
  {
   "cell_type": "code",
   "execution_count": 4,
   "id": "9c8cf2a5-8071-4e29-82d5-c087905883bf",
   "metadata": {},
   "outputs": [],
   "source": [
    "# Add the default force field\n",
    "model.load_default_settings()\n",
    "\n",
    "index_spec_spec_potential = 6 #The 6-th potential is speckle-speckle interaction in the default settings\n",
    "start_spec_index = model.N_chr_nuc+1\n",
    "end_spec_index = model.N_chr_nuc_spec+1\n",
    "N_spec = end_spec_index-start_spec_index #Currently, the number of speckle is 1600."
   ]
  },
  {
   "cell_type": "markdown",
   "id": "d5d920a1-35a3-4258-a774-2d351b3efc46",
   "metadata": {},
   "source": [
    "### Perform the simulation\n",
    "We first created the simulation with a specific Platform, and here, we used \"CUDA\" but users can also use \"CPU\", \"Reference\", and \"OpenCL\" according to their hardware. Before the simulation, we minimized the energy to make the system much more reasonable and stable. After randomly setting velocity, we started our simulation with a total length of 100,000 steps and output the configuration and energy every 2000 steps, and change the speckle types every 4000 steps as we mentioned in the previous blocks."
   ]
  },
  {
   "cell_type": "code",
   "execution_count": 5,
   "id": "f64c55d0-1db4-4897-a4be-1a774f26281e",
   "metadata": {},
   "outputs": [
    {
     "name": "stdout",
     "output_type": "stream",
     "text": [
      "#\"Progress (%)\"\t\"Step\"\t\"Potential Energy (kJ/mole)\"\t\"Kinetic Energy (kJ/mole)\"\t\"Temperature (K)\"\t\"Time Remaining\"\n",
      "2.0%\t2000\t305517.57944424567\t239729.9228943532\t307.3442102983061\t--\n",
      "4.0%\t4000\t207185.90673694137\t151506.21446981165\t194.23757067669288\t14:35\n",
      "6.0%\t6000\t158288.3406172468\t121372.09834880882\t155.60432034887066\t14:01\n",
      "8.0%\t8000\t132847.48986336985\t107250.5440399466\t137.49987220638914\t13:29\n",
      "10.0%\t10000\t121596.96969540659\t100929.74502448138\t129.39633236285206\t13:05\n",
      "12.0%\t12000\t113962.34265134309\t97423.7777640623\t124.90152951982073\t12:41\n",
      "14.0%\t14000\t112257.73056958467\t96318.60754455603\t123.4846531271768\t12:20\n",
      "16.0%\t16000\t109864.41145441416\t94804.20224058055\t121.54311951884611\t11:59\n",
      "18.0%\t18000\t109899.56832139855\t94648.97944137751\t121.34411712454603\t11:39\n",
      "20.0%\t20000\t108446.11521933178\t94627.91730774056\t121.31711455118477\t11:19\n",
      "22.0%\t22000\t109445.79017165932\t94263.81045584117\t120.85031369666426\t11:00\n",
      "24.0%\t24000\t108907.84712871362\t93942.05751382257\t120.43781240069778\t10:40\n",
      "26.0%\t26000\t109715.24762966722\t94501.93586251422\t121.15560084723053\t10:22\n",
      "28.0%\t28000\t109012.5285738545\t94112.84046071759\t120.65676358256171\t10:03\n",
      "30.0%\t30000\t109207.79834143931\t93955.38224187843\t120.4548952828525\t9:45\n",
      "32.0%\t32000\t108795.9361688504\t93830.04515171243\t120.29420767017125\t9:27\n",
      "34.0%\t34000\t108592.09765447844\t94863.32459109789\t121.618916949185\t9:09\n",
      "36.0%\t36000\t109532.47760620397\t93814.96253464038\t120.27487109767635\t8:51\n",
      "38.0%\t38000\t108626.15925753233\t95301.87573854289\t122.1811586354108\t8:34\n",
      "40.0%\t40000\t108300.33539516928\t94183.20974602466\t120.74698007352303\t8:17\n",
      "42.0%\t42000\t109516.66493095538\t93640.43991764485\t120.05112549574196\t8:00\n",
      "44.0%\t44000\t108996.12333174223\t93769.1005199753\t120.21607399588052\t7:42\n",
      "46.0%\t46000\t109280.6361911603\t93836.14837655456\t120.30203227044113\t7:25\n",
      "48.0%\t48000\t108364.16466056774\t93853.77001240787\t120.32462397568223\t7:08\n",
      "50.0%\t50000\t109210.26718781143\t94154.07247884736\t120.70962482699086\t6:51\n",
      "52.0%\t52000\t108715.65516172761\t94486.79727268191\t121.1361925152173\t6:35\n",
      "54.0%\t54000\t108919.86091815002\t94448.96149973289\t121.08768540514258\t6:18\n",
      "56.0%\t56000\t108705.23455818793\t94537.86794517544\t121.20166734337985\t6:01\n",
      "58.0%\t58000\t109063.11636587992\t93659.14819804284\t120.07511032665309\t5:44\n",
      "60.0%\t60000\t108135.8393093122\t94429.40193950695\t121.06260919638713\t5:28\n",
      "62.0%\t62000\t109449.988285381\t94249.21790594471\t120.83160541164911\t5:11\n",
      "64.0%\t64000\t108265.71772550428\t94931.98987010222\t121.7069488297934\t4:54\n",
      "66.0%\t66000\t108873.47916040457\t93522.16191102509\t119.89948793585242\t4:38\n",
      "68.0%\t68000\t108727.68894074738\t93940.03245892211\t120.435216192049\t4:21\n",
      "70.0%\t70000\t109450.27407430168\t94213.81964361423\t120.78622329643153\t4:05\n",
      "72.0%\t72000\t108723.09269815465\t94072.10699834587\t120.60454150834501\t3:48\n",
      "74.0%\t74000\t108844.80312130705\t94326.39749392454\t120.9305530074787\t3:32\n",
      "76.0%\t76000\t108184.15437296525\t93909.8220192326\t120.39648509157962\t3:15\n",
      "78.0%\t78000\t108687.59792681698\t93698.60431995375\t120.12569479472339\t2:59\n",
      "80.0%\t80000\t107990.74859291193\t94525.97634042453\t121.18642178776784\t2:42\n",
      "82.0%\t82000\t108185.52120780546\t94680.5950308404\t121.38464968827138\t2:26\n",
      "84.0%\t84000\t108176.67632892226\t94440.20228596928\t121.07645571130833\t2:10\n",
      "86.0%\t86000\t108495.17923021212\t94492.26184807981\t121.14319833906276\t1:53\n",
      "88.0%\t88000\t107678.69027082807\t94359.94717841972\t120.97356516533716\t1:37\n",
      "90.0%\t90000\t107893.99383572253\t94416.27027058577\t121.04577382445795\t1:21\n",
      "92.0%\t92000\t106406.35815377338\t93848.41319502125\t120.31775630230409\t1:04\n",
      "94.0%\t94000\t108033.8972673082\t93972.11037766634\t120.47634148206463\t0:48\n",
      "96.0%\t96000\t107101.25632630658\t93948.42374930475\t120.4459741920721\t0:32\n",
      "98.0%\t98000\t108023.6646569059\t94298.59749964751\t120.8949122030926\t0:16\n",
      "100.0%\t100000\t106862.39324199257\t93993.76087071122\t120.5040983578318\t0:00\n"
     ]
    }
   ],
   "source": [
    "#model.save_system(\"model_before_simulation_0.xml\")\n",
    "\n",
    "simulation = model.create_simulation(platform_type = \"CUDA\") # Users can also use CPU, Reference, OpenCL.\n",
    "simulation.context.setPositions(model.chr_positions)\n",
    "\n",
    "simulation.minimizeEnergy()\n",
    "\n",
    "simulation.reporters.append(mdtraj.reporters.DCDReporter('results/step_100000.dcd', sampling_freq))\n",
    "\n",
    "def setVelocity(context):\n",
    "    sigma = u.sqrt(1.0*u.kilojoule_per_mole / model.chr_system.getParticleMass(1))\n",
    "    velocs = u.Quantity(1.0 * np.random.normal(size=(model.chr_system.getNumParticles(), 3)),\n",
    "                        u.meter) * (sigma / u.meter)\n",
    "    context.setVelocities(velocs)\n",
    "setVelocity(simulation.context)\n",
    "\n",
    "simulation.reporters.append(mmapp.statedatareporter.StateDataReporter(sys.stdout, sampling_freq, step=True,\n",
    "    potentialEnergy=True, kineticEnergy=True, temperature=True, progress=True,\n",
    "    remainingTime=True, separator='\\t', totalSteps = total_steps))\n",
    "\n",
    "for i in range(total_steps//transition_freq):\n",
    "    simulation.step(transition_freq)\n",
    "    # Change the type of speckles every 4000 steps, non-equilibrium scheme.\n",
    "\n",
    "    # Do the chemical modification, and change the spec-spec potential on the fly.\n",
    "    for j in np.random.randint(start_spec_index-1, end_spec_index-1, N_spec): \n",
    "\n",
    "        if model.compart_type[j] == dP_type-1:\n",
    "            model.compart_type[j] = P_type-1 if random.random() < prob_dP_P else dP_type-1\n",
    "        else:\n",
    "            model.compart_type[j] = dP_type-1 if random.random() < prob_P_dP else P_type-1\n",
    "\n",
    "    # Update the context after changing the type of speckles.\n",
    "    for m in range(model.chr_system.getNumParticles()):\n",
    "        model.chr_system.getForce(index_spec_spec_potential).setParticleParameters(m, [model.compart_type[m]])\n",
    "    model.chr_system.getForce(index_spec_spec_potential).updateParametersInContext(simulation.context)\n",
    "\n",
    "# Keep the final result of bead types in case constructing the configuration for the continuous simulation.\n",
    "np.savetxt('results/compt_final_frame.txt', (np.array(model.compart_type)+1).reshape((-1,1)), fmt='%d')"
   ]
  },
  {
   "cell_type": "markdown",
   "id": "1aea65f3-c1e6-4862-8aef-61b097e5e64f",
   "metadata": {},
   "source": [
    "### Post-process the output files\n",
    "\n",
    "We converted the trajectory with the default OpenMM unit to the nex trajectory with the reduced unit, and saved the final configuration according to the last frame."
   ]
  },
  {
   "cell_type": "code",
   "execution_count": 6,
   "id": "b2698414-65d8-417c-a934-e9c16ccb52c8",
   "metadata": {},
   "outputs": [],
   "source": [
    "coor_transformation('results/step_100000.dcd', 'results/reduced_traj.dcd')\n",
    "final_frame('results/step_100000.dcd', 'results/compt_final_frame.txt', 'results/final_config.pdb')"
   ]
  }
 ],
 "metadata": {
  "kernelspec": {
   "display_name": "Python [conda env:anaconda3-openmm]",
   "language": "python",
   "name": "conda-env-anaconda3-openmm-py"
  },
  "language_info": {
   "codemirror_mode": {
    "name": "ipython",
    "version": 3
   },
   "file_extension": ".py",
   "mimetype": "text/x-python",
   "name": "python",
   "nbconvert_exporter": "python",
   "pygments_lexer": "ipython3",
   "version": "3.6.15"
  }
 },
 "nbformat": 4,
 "nbformat_minor": 5
}
