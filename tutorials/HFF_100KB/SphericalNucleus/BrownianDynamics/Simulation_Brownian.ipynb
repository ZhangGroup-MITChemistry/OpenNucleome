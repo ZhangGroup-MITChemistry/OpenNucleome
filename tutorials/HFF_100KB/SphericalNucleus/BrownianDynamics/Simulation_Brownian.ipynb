{
 "cells": [
  {
   "cell_type": "markdown",
   "id": "c4185e43-9c43-400c-9688-7b3831dacecb",
   "metadata": {},
   "source": [
    "## Import the necessary packages"
   ]
  },
  {
   "cell_type": "code",
   "execution_count": 1,
   "id": "d7dfe668-ce05-48b3-98ba-a5b73e0df96d",
   "metadata": {},
   "outputs": [],
   "source": [
    "import parmed as pmd\n",
    "import json\n",
    "import sys\n",
    "from sys import platform\n",
    "import mdtraj as md\n",
    "import simtk.openmm.app as mmapp\n",
    "import mdtraj.reporters\n",
    "import simtk.unit as u\n",
    "import random\n",
    "from openNucleome import OpenNucleome\n",
    "import warnings\n",
    "import numpy as np"
   ]
  },
  {
   "cell_type": "markdown",
   "id": "d8c3b70a-21f3-4228-bb57-945965ebee06",
   "metadata": {},
   "source": [
    "## Important parameters\n",
    "We defined the important parameters in the next block. First, we set the transition probability between dP particles and P particles as 0.2, and the transition frequency as 4000. When creating the system, we set type 6, 7 as the dP and P particles, respectively, so we kept using 6, 7 here. In this example, we ran a simulation with total length of 100,000 steps, and output one configuration and the energy every 2000 steps."
   ]
  },
  {
   "cell_type": "code",
   "execution_count": 2,
   "id": "5a6e5ed3-5b95-4568-af71-336b5564cafa",
   "metadata": {},
   "outputs": [],
   "source": [
    "prob_P_dP = 0.2 # Transition probability from P to dP\n",
    "prob_dP_P = 0.2 # Transition probability from dP to P\n",
    "transition_freq = 4000\n",
    "sampling_freq = 2000\n",
    "dP_type = 6\n",
    "P_type = 7\n",
    "total_steps = 100000"
   ]
  },
  {
   "cell_type": "markdown",
   "id": "95f76ca2-43ed-4768-9fce-257348ea81c0",
   "metadata": {},
   "source": [
    "## Initialize the system (A larger damping coefficient for the Brownian Dynamics)\n",
    "We first set up an example \"model\" of class \"OpenNucleome\" with the conserved temperature, damping coefficient, timestep, and the mass scale. In this folder, we also included the initial configuration \"human.pdb\" used for the simulation and created a system according to the initial configuration.\n",
    "\n",
    "In this example, we freezed all the lamina beads, and would not consider the dynamics of the membrane, and that is why we set \"False\" (off) for membrane dynamics. Consequently, there was also no need to set the bond between lamina beads, so we set \"None\" for the variable \"lam_bond\"."
   ]
  },
  {
   "cell_type": "code",
   "execution_count": 3,
   "id": "b0b6fb41-d073-4be8-8832-24896e0f068f",
   "metadata": {},
   "outputs": [],
   "source": [
    "model = OpenNucleome(1.0, 100, 0.005, 1.0) # 1.0: temperature (LJ reduced unit); \n",
    "                                           # 0.1: damping coefficient (LJ reduced unit);\n",
    "                                           # 0.005: timestep (LJ reduced unit);\n",
    "                                           # 1.0: mass_scale\n",
    "    \n",
    "PDB_file = \"human.pdb\" #The initial configuration\n",
    "\n",
    "# Generate new elements and construct topology as well\n",
    "# flag_membrane: True for including lamina dynamics, False for excluding lamina dynamics;\n",
    "# lam_bond: A file contains the lamina bond when membrane_dynamics is on.\n",
    "\n",
    "warnings.filterwarnings(\"ignore\")\n",
    "model.create_system(PDB_file, flag_membrane = False, lam_bond = None) "
   ]
  },
  {
   "cell_type": "markdown",
   "id": "3eee92a7-e149-45ef-b201-7b02fa5948c6",
   "metadata": {},
   "source": [
    "## Add the force field\n",
    "In this example, we loaded default settings for the interactions between chromosomes and chromosomes, and chromosomes and nuclear landmarks. All the types of potential can be found in \"Section: Energy function of the whole nucleus model\" in Supporting Information. According to the order of added potential, the index of speckle-speckle potential is 6, and this index is needed when transiting the speckle particle between type 6 and type 7.\n",
    "\n",
    "Because during the simulations, we would transit the dP speckle and P speckle particles, here, we logged the start index and end index of speckle particle, and computed the number of speckle particles."
   ]
  },
  {
   "cell_type": "code",
   "execution_count": 4,
   "id": "9c8cf2a5-8071-4e29-82d5-c087905883bf",
   "metadata": {},
   "outputs": [],
   "source": [
    "# Add the default force field\n",
    "model.load_default_settings()\n",
    "\n",
    "index_spec_spec_potential = 6\n",
    "start_spec_index = model.N_chr_nuc+1\n",
    "end_spec_index = model.N_chr_nuc_spec+1\n",
    "N_spec = end_spec_index-start_spec_index #Currently, the number of speckle is 1600."
   ]
  },
  {
   "cell_type": "markdown",
   "id": "d5d920a1-35a3-4258-a774-2d351b3efc46",
   "metadata": {},
   "source": [
    "## Perform the simulation\n",
    "We first created the simulation with a specific Platform, and here, we used \"CUDA\" but users can also use \"CPU\", \"Reference\", and \"OpenCL\" according to their hardware. Before the simulation, we minimized the energy to make the system much more reasonable and stable. After randomly setting velocity, we started our simulation with a total length of 100,000 steps and output the configuration and energy every 2000 steps, and change the speckle types every 4000 steps as we mentioned in the previous blocks."
   ]
  },
  {
   "cell_type": "code",
   "execution_count": 5,
   "id": "f64c55d0-1db4-4897-a4be-1a774f26281e",
   "metadata": {},
   "outputs": [
    {
     "name": "stdout",
     "output_type": "stream",
     "text": [
      "#\"Progress (%)\"\t\"Step\"\t\"Potential Energy (kJ/mole)\"\t\"Kinetic Energy (kJ/mole)\"\t\"Temperature (K)\"\t\"Time Remaining\"\n",
      "2.0%\t2000\t99206.4412654699\t94134.75300352147\t120.68485641754191\t--\n",
      "4.0%\t4000\t102701.08388253691\t93520.74826045646\t119.89767557420642\t12:09\n",
      "6.0%\t6000\t104651.70612277067\t93731.0734316584\t120.16732161116528\t11:56\n",
      "8.0%\t8000\t105127.13949484381\t94102.27174289225\t120.64321402564917\t11:39\n",
      "10.0%\t10000\t105491.00636059525\t93648.35121302649\t120.06126812125216\t11:25\n",
      "12.0%\t12000\t105518.90546583151\t94110.91761336563\t120.65429840844503\t11:09\n",
      "14.0%\t14000\t106865.24930417407\t93759.76601602121\t120.20410675494682\t10:55\n",
      "16.0%\t16000\t106873.28149104537\t94006.82493267559\t120.52084705469554\t10:39\n",
      "18.0%\t18000\t107086.6011086256\t94332.96452635451\t120.93897222929225\t10:24\n",
      "20.0%\t20000\t106953.19238129302\t93770.7734030736\t120.21821870492879\t10:09\n",
      "22.0%\t22000\t107072.1334956935\t93375.98766078262\t119.71208617572037\t9:54\n",
      "24.0%\t24000\t107110.97032948714\t94094.96829805299\t120.63385069102878\t9:38\n",
      "26.0%\t26000\t106512.06788424458\t93708.01118761621\t120.13775480908535\t9:23\n",
      "28.0%\t28000\t107007.46950869502\t93839.9939870647\t120.30696251073441\t9:08\n",
      "30.0%\t30000\t106913.16918850449\t93172.75310898616\t119.45153062189934\t8:53\n",
      "32.0%\t32000\t106915.08454353464\t93621.11060174042\t120.0263444702424\t8:38\n",
      "34.0%\t34000\t107014.74365555328\t93628.10619949324\t120.0353131314798\t8:23\n",
      "36.0%\t36000\t107514.72947818661\t94338.39525419394\t120.94593465909243\t8:07\n",
      "38.0%\t38000\t107837.33129110897\t93885.5290150697\t120.36534040137958\t7:52\n",
      "40.0%\t40000\t106950.75294655675\t93663.5151864481\t120.08070899613328\t7:37\n",
      "42.0%\t42000\t107667.87119089549\t93496.98710811744\t119.86721274122651\t7:22\n",
      "44.0%\t44000\t107699.62504764477\t94032.75748670635\t120.55409371928948\t7:06\n",
      "46.0%\t46000\t107383.76271006957\t94152.42564459662\t120.70751351370058\t6:51\n",
      "48.0%\t48000\t107685.70053905711\t93806.7296820601\t120.26431622182174\t6:36\n",
      "50.0%\t50000\t108188.80864062146\t93640.34363561436\t120.05100205798222\t6:21\n",
      "52.0%\t52000\t107603.83933436283\t94046.41163473742\t120.57159893221092\t6:06\n",
      "54.0%\t54000\t108164.27943819607\t93452.12713116668\t119.80970029545641\t5:50\n",
      "56.0%\t56000\t108005.24750933856\t93567.68193590513\t119.95784659183748\t5:35\n",
      "58.0%\t58000\t108313.07388479386\t94316.94933454806\t120.91844005533957\t5:20\n",
      "60.0%\t60000\t108395.15716423347\t94009.32902459751\t120.52405740968571\t5:05\n",
      "62.0%\t62000\t108428.54042971827\t94355.11724100974\t120.96737297505427\t4:49\n",
      "64.0%\t64000\t107657.64817855803\t93585.44734329867\t119.98062261845973\t4:34\n",
      "66.0%\t66000\t107381.47411069873\t93640.96555821148\t120.05179938985957\t4:19\n",
      "68.0%\t68000\t107687.9018101579\t93652.15958594646\t120.06615062133174\t4:03\n",
      "70.0%\t70000\t107782.82429903571\t94425.59704279248\t121.05773115295452\t3:48\n",
      "72.0%\t72000\t107962.40978158862\t93952.41600976083\t120.45109244398809\t3:33\n",
      "74.0%\t74000\t107785.17330015628\t93965.6979905636\t120.46812052230115\t3:18\n",
      "76.0%\t76000\t108038.9673213207\t94057.88412419827\t120.58630716375303\t3:02\n",
      "78.0%\t78000\t108096.03393143494\t94123.20937907144\t120.67005698784311\t2:47\n",
      "80.0%\t80000\t108757.5499189049\t93700.3455351824\t120.12792710854114\t2:32\n",
      "82.0%\t82000\t108219.60951086738\t94144.80773405787\t120.69774702034677\t2:17\n",
      "84.0%\t84000\t108201.2584779624\t93376.41183373508\t119.71262998393394\t2:01\n",
      "86.0%\t86000\t108221.42426802675\t93843.71725379101\t120.31173590096417\t1:46\n",
      "88.0%\t88000\t108443.49560169622\t93451.2561512716\t119.80858366126738\t1:31\n",
      "90.0%\t90000\t108268.14389363492\t93453.72473727254\t119.81174849611925\t1:16\n",
      "92.0%\t92000\t107815.92389762413\t93555.81712947131\t119.94263539283604\t1:00\n",
      "94.0%\t94000\t108183.73701566845\t93871.62747391993\t120.3475180196968\t0:45\n",
      "96.0%\t96000\t108061.97408063925\t93445.79320813327\t119.80157993004984\t0:30\n",
      "98.0%\t98000\t108457.55532271703\t94215.09866736185\t120.78786306062499\t0:15\n",
      "100.0%\t100000\t107731.43794686723\t93884.87048781736\t120.36449614073875\t0:00\n"
     ]
    }
   ],
   "source": [
    "#model.save_system(\"model_before_simulation_0.xml\")\n",
    "\n",
    "simulation = model.create_simulation(platform_type = \"CUDA\") # Users can also use CPU, Reference, OpenCL.\n",
    "simulation.context.setPositions(model.chr_positions)\n",
    "\n",
    "simulation.minimizeEnergy()\n",
    "\n",
    "simulation.reporters.append(mdtraj.reporters.DCDReporter('step_100000.dcd', sampling_freq))\n",
    "\n",
    "def setVelocity(context):\n",
    "    sigma = u.sqrt(1.0*u.kilojoule_per_mole / model.chr_system.getParticleMass(1))\n",
    "    velocs = u.Quantity(1.0 * np.random.normal(size=(model.chr_system.getNumParticles(), 3)),\n",
    "                        u.meter) * (sigma / u.meter)\n",
    "    context.setVelocities(velocs)\n",
    "setVelocity(simulation.context)\n",
    "\n",
    "simulation.reporters.append(mmapp.statedatareporter.StateDataReporter(sys.stdout, sampling_freq, step=True,\n",
    "    potentialEnergy=True, kineticEnergy=True, temperature=True, progress=True,\n",
    "    remainingTime=True, separator='\\t', totalSteps = total_steps))\n",
    "\n",
    "for i in range(total_steps//transition_freq):\n",
    "    simulation.step(transition_freq)\n",
    "    # Change the type of speckles every 4000 steps, non-equilibrium scheme.\n",
    "\n",
    "    # Do the chemical modification, and change the spec-spec potential on the fly.\n",
    "    for j in np.random.randint(start_spec_index-1, end_spec_index-1, N_spec): \n",
    "\n",
    "        if model.compart_type[j] == dP_type-1:\n",
    "            model.compart_type[j] = P_type-1 if random.random() < prob_dP_P else dP_type-1\n",
    "        else:\n",
    "            model.compart_type[j] = dP_type-1 if random.random() < prob_P_dP else P_type-1\n",
    "\n",
    "    # Update the context after changing the type of speckles.\n",
    "    for m in range(model.chr_system.getNumParticles()):\n",
    "        model.chr_system.getForce(index_spec_spec_potential).setParticleParameters(m, [model.compart_type[m]])\n",
    "    model.chr_system.getForce(index_spec_spec_potential).updateParametersInContext(simulation.context)\n",
    "\n",
    "# Keep the final result of spec types in case constructing the configuration for the continuous simulation.\n",
    "np.savetxt('compt_final_frame.txt', (np.array(model.compart_type)+1).reshape((-1,1)), fmt='%d')"
   ]
  }
 ],
 "metadata": {
  "kernelspec": {
   "display_name": "Python [conda env:anaconda3-openmm]",
   "language": "python",
   "name": "conda-env-anaconda3-openmm-py"
  },
  "language_info": {
   "codemirror_mode": {
    "name": "ipython",
    "version": 3
   },
   "file_extension": ".py",
   "mimetype": "text/x-python",
   "name": "python",
   "nbconvert_exporter": "python",
   "pygments_lexer": "ipython3",
   "version": "3.6.15"
  }
 },
 "nbformat": 4,
 "nbformat_minor": 5
}
