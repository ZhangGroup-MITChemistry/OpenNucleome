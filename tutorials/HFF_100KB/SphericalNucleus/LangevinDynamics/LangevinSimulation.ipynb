{
 "cells": [
  {
   "cell_type": "markdown",
   "id": "c4185e43-9c43-400c-9688-7b3831dacecb",
   "metadata": {},
   "source": [
    "## Sphere Model: Langevin Dynamics "
   ]
  },
  {
   "cell_type": "markdown",
   "id": "771cb79a-d851-4e73-8a2e-3a73d33a91ae",
   "metadata": {},
   "source": [
    "### Import the necessary packages"
   ]
  },
  {
   "cell_type": "code",
   "execution_count": 1,
   "id": "d7dfe668-ce05-48b3-98ba-a5b73e0df96d",
   "metadata": {},
   "outputs": [],
   "source": [
    "import parmed as pmd\n",
    "import json\n",
    "import sys\n",
    "from sys import platform\n",
    "import mdtraj as md\n",
    "import simtk.openmm.app as mmapp\n",
    "import mdtraj.reporters\n",
    "import simtk.unit as u\n",
    "import random\n",
    "from openNucleome import OpenNucleome\n",
    "from openNucleome.utils import coor_transformation, final_frame\n",
    "import warnings\n",
    "import numpy as np"
   ]
  },
  {
   "cell_type": "markdown",
   "id": "d8c3b70a-21f3-4228-bb57-945965ebee06",
   "metadata": {},
   "source": [
    "### Important parameters\n",
    "We defined the important parameters in the next block. First, we set the transition probability between dP particles and P particles as 0.2, and the transition frequency as 4000. When creating the system, we set type 6, 7 as the dP and P particles, respectively, so we kept using 6, 7 here. In this example, we ran a simulation with total length of 100,000 steps, and output one configuration and the energy every 2000 steps."
   ]
  },
  {
   "cell_type": "code",
   "execution_count": 2,
   "id": "5a6e5ed3-5b95-4568-af71-336b5564cafa",
   "metadata": {},
   "outputs": [],
   "source": [
    "prob_P_dP = 0.2 # Transition probability from P to dP\n",
    "prob_dP_P = 0.2 # Transition probability from dP to P\n",
    "transition_freq = 4000\n",
    "sampling_freq = 2000\n",
    "dP_type = 6\n",
    "P_type = 7\n",
    "total_steps = 100000"
   ]
  },
  {
   "cell_type": "markdown",
   "id": "95f76ca2-43ed-4768-9fce-257348ea81c0",
   "metadata": {},
   "source": [
    "### Initialize the system\n",
    "We first set up an example \"model\" of class \"OpenNucleome\" with the conserved temperature, damping coefficient, timestep, and the mass scale. In this folder, we also included the initial configuration \"human.pdb\" used for the simulation and created a system according to the initial configuration.\n",
    "\n",
    "In this example, we freezed all the lamina beads, and would not consider the dynamics of the membrane, and that is why we set \"False\" (off) for membrane dynamics. Consequently, there was also no need to set the bond between lamina beads, so we set \"None\" for the variable \"lam_bond\"."
   ]
  },
  {
   "cell_type": "code",
   "execution_count": 3,
   "id": "b0b6fb41-d073-4be8-8832-24896e0f068f",
   "metadata": {},
   "outputs": [],
   "source": [
    "model = OpenNucleome(1.0, 0.1, 0.005, 1.0) # 1.0: temperature (LJ reduced unit); \n",
    "                                           # 0.1: damping coefficient (LJ reduced unit);\n",
    "                                           # 0.005: timestep (LJ reduced unit);\n",
    "                                           # 1.0: mass_scale\n",
    "    \n",
    "PDB_file = \"initial_configs/human_1.pdb\"   #The initial configuration\n",
    "\n",
    "# Generate new elements and construct topology as well\n",
    "# flag_membrane: True for including lamina dynamics, False for excluding lamina dynamics;\n",
    "# lam_bond: A file contains the lamina bond when membrane_dynamics is on.\n",
    "\n",
    "warnings.filterwarnings(\"ignore\")\n",
    "model.create_system(PDB_file, flag_membrane = False, lam_bond = None) "
   ]
  },
  {
   "cell_type": "markdown",
   "id": "3eee92a7-e149-45ef-b201-7b02fa5948c6",
   "metadata": {},
   "source": [
    "### Add the force field\n",
    "In this example, we loaded default settings for the interactions between chromosomes and chromosomes, and chromosomes and nuclear landmarks. All the types of potential can be found in \"Section: Energy function of the whole nucleus model\" in Supporting Information. According to the order of added potential, the index of speckle-speckle potential is 6, and this index is needed when transiting the speckle particle between type 6 and type 7.\n",
    "\n",
    "Because during the simulations, we would transit the dP speckle and P speckle particles, here, we logged the start index and end index of speckle particle, and computed the number of speckle particles."
   ]
  },
  {
   "cell_type": "code",
   "execution_count": 4,
   "id": "9c8cf2a5-8071-4e29-82d5-c087905883bf",
   "metadata": {},
   "outputs": [],
   "source": [
    "# Add the default force field\n",
    "model.load_default_settings()\n",
    "\n",
    "index_spec_spec_potential = 6 #The 6-th potential is speckle-speckle interaction in the default settings\n",
    "start_spec_index = model.N_chr_nuc+1\n",
    "end_spec_index = model.N_chr_nuc_spec+1\n",
    "N_spec = end_spec_index-start_spec_index #Currently, the number of speckle is 1600."
   ]
  },
  {
   "cell_type": "markdown",
   "id": "d5d920a1-35a3-4258-a774-2d351b3efc46",
   "metadata": {},
   "source": [
    "### Perform the simulation\n",
    "We first created the simulation with a specific Platform, and here, we used \"CUDA\" but users can also use \"CPU\", \"Reference\", and \"OpenCL\" according to their hardware. Before the simulation, we minimized the energy to make the system much more reasonable and stable. After randomly setting velocity, we started our simulation with a total length of 100,000 steps and output the configuration and energy every 2000 steps, and change the speckle types every 4000 steps as we mentioned in the previous blocks."
   ]
  },
  {
   "cell_type": "code",
   "execution_count": 5,
   "id": "f64c55d0-1db4-4897-a4be-1a774f26281e",
   "metadata": {},
   "outputs": [
    {
     "name": "stdout",
     "output_type": "stream",
     "text": [
      "#\"Progress (%)\"\t\"Step\"\t\"Potential Energy (kJ/mole)\"\t\"Kinetic Energy (kJ/mole)\"\t\"Temperature (K)\"\t\"Time Remaining\"\n",
      "2.0%\t2000\t95731.85929571482\t86345.68982083745\t110.69893791415754\t--\n",
      "4.0%\t4000\t99532.94729061538\t91125.1333946349\t116.82639289816234\t12:18\n",
      "6.0%\t6000\t102489.94966086837\t92875.1373802856\t119.0699742854793\t12:07\n",
      "8.0%\t8000\t101970.62104604443\t93946.25490129643\t120.44319363439149\t11:51\n",
      "10.0%\t10000\t104080.58569641429\t93895.10736796792\t120.37762026728836\t11:36\n",
      "12.0%\t12000\t102469.63879127387\t94266.58652759668\t120.85387274165592\t11:20\n",
      "14.0%\t14000\t103107.25368497109\t94476.86194657334\t121.12345499409341\t11:05\n",
      "16.0%\t16000\t101997.27652061332\t93615.4220947793\t120.01905155637233\t10:49\n",
      "18.0%\t18000\t102695.14047996342\t94293.17782819153\t120.88796394805793\t10:34\n",
      "20.0%\t20000\t102284.79145205846\t94000.65665731127\t120.51293905682084\t10:18\n",
      "22.0%\t22000\t103181.19623978612\t94092.67913100094\t120.63091587908977\t10:03\n",
      "24.0%\t24000\t102471.11959102858\t93940.2788685578\t120.43553209994224\t9:47\n",
      "26.0%\t26000\t102967.84568309924\t94193.30678616917\t120.75992491908966\t9:32\n",
      "28.0%\t28000\t102104.78401933674\t94638.44177388668\t121.33060737551574\t9:16\n",
      "30.0%\t30000\t103145.97248266514\t93784.43750129726\t120.23573667443081\t9:01\n",
      "32.0%\t32000\t102815.6439428291\t93162.17754139185\t119.43797228328442\t8:45\n",
      "34.0%\t34000\t103375.09306618437\t94517.692018082\t121.17580092543459\t8:30\n",
      "36.0%\t36000\t103472.25183194957\t93685.96252558767\t120.1094874633261\t8:15\n",
      "38.0%\t38000\t104177.71982035965\t94111.53321030273\t120.65508763055053\t7:59\n",
      "40.0%\t40000\t102929.15471019791\t94273.22366385003\t120.86238183962666\t7:44\n",
      "42.0%\t42000\t103807.91912237357\t93392.1141090396\t119.73276098529199\t7:28\n",
      "44.0%\t44000\t102317.0566719379\t93764.79770755101\t120.2105576028052\t7:13\n",
      "46.0%\t46000\t103016.71835973949\t93875.29215481882\t120.35221630034223\t6:57\n",
      "48.0%\t48000\t102693.02057004237\t94267.37592089028\t120.85488477826573\t6:42\n",
      "50.0%\t50000\t104012.35688091657\t94484.31101151256\t121.13300502002912\t6:26\n",
      "52.0%\t52000\t102642.30455152449\t95044.68483915059\t121.85142869216766\t6:11\n",
      "54.0%\t54000\t103806.89709221238\t94755.90310995904\t121.48119792816715\t5:55\n",
      "56.0%\t56000\t103170.73528723426\t94183.26523600474\t120.74705121409615\t5:40\n",
      "58.0%\t58000\t103770.68482632717\t94051.89853501321\t120.57863337752292\t5:24\n",
      "60.0%\t60000\t102732.78325580872\t93822.51084952969\t120.2845483663741\t5:09\n",
      "62.0%\t62000\t103234.22757751837\t93808.19539673388\t120.26619533191987\t4:53\n",
      "64.0%\t64000\t102881.23494367936\t93540.57531709578\t119.92309472502322\t4:38\n",
      "66.0%\t66000\t102959.45930786872\t94174.98848670874\t120.73644006073863\t4:23\n",
      "68.0%\t68000\t102207.69833765701\t94185.86471289878\t120.75038385677814\t4:07\n",
      "70.0%\t70000\t103380.66204900964\t94032.35585227858\t120.55357880644698\t3:52\n",
      "72.0%\t72000\t102557.51791599748\t94209.38874932617\t120.78054269682411\t3:36\n",
      "74.0%\t74000\t103333.50519057558\t93847.19960158567\t120.31620042262259\t3:21\n",
      "76.0%\t76000\t102915.37827298888\t93417.95780964197\t119.76589373591789\t3:05\n",
      "78.0%\t78000\t103285.69125801143\t93846.46844148931\t120.31526304350987\t2:50\n",
      "80.0%\t80000\t102317.42949138349\t93657.30623426713\t120.07274884880665\t2:34\n",
      "82.0%\t82000\t103100.49753877813\t93921.214984692\t120.41109136988563\t2:19\n",
      "84.0%\t84000\t102898.78388727782\t93804.70340561948\t120.26171844710522\t2:03\n",
      "86.0%\t86000\t103186.26768478611\t94014.1095649399\t120.53018627077486\t1:48\n",
      "88.0%\t88000\t102891.62793189581\t94033.03357096677\t120.55444767134507\t1:32\n",
      "90.0%\t90000\t103181.6413625974\t93624.9302086184\t120.0312413727458\t1:17\n",
      "92.0%\t92000\t102430.7777392424\t94168.32895799648\t120.72790225465954\t1:01\n",
      "94.0%\t94000\t103673.4257128592\t93934.5022553975\t120.42812623008454\t0:46\n",
      "96.0%\t96000\t102454.2311218296\t94226.1241681962\t120.80199823326495\t0:30\n",
      "98.0%\t98000\t103528.39761667955\t93969.1743303926\t120.47257734148573\t0:15\n",
      "100.0%\t100000\t102507.23206314092\t94393.40130067056\t121.0164548082331\t0:00\n"
     ]
    }
   ],
   "source": [
    "#model.save_system(\"model_before_simulation_0.xml\")\n",
    "\n",
    "simulation = model.create_simulation(platform_type = \"CUDA\") # Users can also use CPU, Reference, OpenCL.\n",
    "simulation.context.setPositions(model.chr_positions)\n",
    "\n",
    "simulation.minimizeEnergy()\n",
    "\n",
    "simulation.reporters.append(mdtraj.reporters.DCDReporter('results/step_100000.dcd', sampling_freq))\n",
    "\n",
    "def setVelocity(context):\n",
    "    sigma = u.sqrt(1.0*u.kilojoule_per_mole / model.chr_system.getParticleMass(1))\n",
    "    velocs = u.Quantity(1.0 * np.random.normal(size=(model.chr_system.getNumParticles(), 3)),\n",
    "                        u.meter) * (sigma / u.meter)\n",
    "    context.setVelocities(velocs)\n",
    "setVelocity(simulation.context)\n",
    "\n",
    "simulation.reporters.append(mmapp.statedatareporter.StateDataReporter(sys.stdout, sampling_freq, step=True,\n",
    "    potentialEnergy=True, kineticEnergy=True, temperature=True, progress=True,\n",
    "    remainingTime=True, separator='\\t', totalSteps = total_steps))\n",
    "\n",
    "for i in range(total_steps//transition_freq):\n",
    "    simulation.step(transition_freq)\n",
    "    # Change the type of speckles every 4000 steps, non-equilibrium scheme.\n",
    "\n",
    "    # Do the chemical modification, and change the spec-spec potential on the fly.\n",
    "    for j in np.random.randint(start_spec_index-1, end_spec_index-1, N_spec): \n",
    "\n",
    "        if model.compart_type[j] == dP_type-1:\n",
    "            model.compart_type[j] = P_type-1 if random.random() < prob_dP_P else dP_type-1\n",
    "        else:\n",
    "            model.compart_type[j] = dP_type-1 if random.random() < prob_P_dP else P_type-1\n",
    "\n",
    "    # Update the context after changing the type of speckles.\n",
    "    for m in range(model.chr_system.getNumParticles()):\n",
    "        model.chr_system.getForce(index_spec_spec_potential).setParticleParameters(m, [model.compart_type[m]])\n",
    "    model.chr_system.getForce(index_spec_spec_potential).updateParametersInContext(simulation.context)\n",
    "\n",
    "# Keep the final result of bead types in case constructing the configuration for the continuous simulation.\n",
    "np.savetxt('results/compt_final_frame.txt', (np.array(model.compart_type)+1).reshape((-1,1)), fmt='%d')"
   ]
  },
  {
   "cell_type": "markdown",
   "id": "c7a32c47-8870-4739-a7ef-fc3b25c5fc18",
   "metadata": {},
   "source": [
    "### Post-process the output files\n",
    "\n",
    "We converted the trajectory with the default OpenMM unit to the nex trajectory with the reduced unit, and saved the final configuration according to the last frame."
   ]
  },
  {
   "cell_type": "code",
   "execution_count": 6,
   "id": "9c29d280-a693-4522-968f-c0ed557aea2d",
   "metadata": {},
   "outputs": [],
   "source": [
    "coor_transformation('results/step_100000.dcd', 'results/reduced_traj.dcd')\n",
    "final_frame('results/step_100000.dcd', 'results/compt_final_frame.txt', 'results/final_config.pdb')"
   ]
  }
 ],
 "metadata": {
  "kernelspec": {
   "display_name": "Python [conda env:anaconda3-openmm]",
   "language": "python",
   "name": "conda-env-anaconda3-openmm-py"
  },
  "language_info": {
   "codemirror_mode": {
    "name": "ipython",
    "version": 3
   },
   "file_extension": ".py",
   "mimetype": "text/x-python",
   "name": "python",
   "nbconvert_exporter": "python",
   "pygments_lexer": "ipython3",
   "version": "3.6.15"
  }
 },
 "nbformat": 4,
 "nbformat_minor": 5
}
