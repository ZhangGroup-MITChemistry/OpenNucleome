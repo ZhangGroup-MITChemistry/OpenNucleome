{
 "cells": [
  {
   "cell_type": "markdown",
   "id": "c4185e43-9c43-400c-9688-7b3831dacecb",
   "metadata": {},
   "source": [
    "## Import the necessary packages"
   ]
  },
  {
   "cell_type": "code",
   "execution_count": 1,
   "id": "d7dfe668-ce05-48b3-98ba-a5b73e0df96d",
   "metadata": {},
   "outputs": [],
   "source": [
    "import parmed as pmd\n",
    "import json\n",
    "import sys\n",
    "from sys import platform\n",
    "import mdtraj as md\n",
    "import simtk.openmm.app as mmapp\n",
    "import mdtraj.reporters\n",
    "import simtk.unit as u\n",
    "import random\n",
    "from openNucleome import OpenNucleome\n",
    "import warnings\n",
    "import numpy as np"
   ]
  },
  {
   "cell_type": "markdown",
   "id": "d8c3b70a-21f3-4228-bb57-945965ebee06",
   "metadata": {},
   "source": [
    "## Important parameters\n",
    "We defined the important parameters in the next block. First, we set the transition probability between dP particles and P particles as 0.2, and the transition frequency as 4000. When creating the system, we set type 6, 7 as the dP and P particles, respectively, so we kept using 6, 7 here. In this example, we ran a simulation with total length of 100,000 steps, and output one configuration and the energy every 2000 steps."
   ]
  },
  {
   "cell_type": "code",
   "execution_count": 2,
   "id": "5a6e5ed3-5b95-4568-af71-336b5564cafa",
   "metadata": {},
   "outputs": [],
   "source": [
    "prob_P_dP = 0.2 # Transition probability from P to dP\n",
    "prob_dP_P = 0.2 # Transition probability from dP to P\n",
    "transition_freq = 4000\n",
    "sampling_freq = 2000\n",
    "dP_type = 6\n",
    "P_type = 7\n",
    "total_steps = 100000"
   ]
  },
  {
   "cell_type": "markdown",
   "id": "95f76ca2-43ed-4768-9fce-257348ea81c0",
   "metadata": {},
   "source": [
    "## Initialize the system\n",
    "We first set up an example \"model\" of class \"OpenNucleome\" with the conserved temperature, damping coefficient, timestep, and the mass scale. In this folder, we also included the initial configuration \"human.pdb\" used for the simulation and created a system according to the initial configuration.\n",
    "\n",
    "In this example, we freezed all the lamina beads, and would not consider the dynamics of the membrane, and that is why we set \"False\" (off) for membrane dynamics. Consequently, there was also no need to set the bond between lamina beads, so we set \"None\" for the variable \"lam_bond\"."
   ]
  },
  {
   "cell_type": "code",
   "execution_count": 3,
   "id": "b0b6fb41-d073-4be8-8832-24896e0f068f",
   "metadata": {},
   "outputs": [],
   "source": [
    "model = OpenNucleome(1.0, 0.1, 0.005, 1.0) # 1.0: temperature (LJ reduced unit); \n",
    "                                           # 0.1: damping coefficient (LJ reduced unit);\n",
    "                                           # 0.005: timestep (LJ reduced unit);\n",
    "                                           # 1.0: mass_scale\n",
    "    \n",
    "PDB_file = \"human.pdb\" #The initial configuration\n",
    "\n",
    "# Generate new elements and construct topology as well\n",
    "# flag_membrane: True for including lamina dynamics, False for excluding lamina dynamics;\n",
    "# lam_bond: A file contains the lamina bond when membrane_dynamics is on.\n",
    "\n",
    "warnings.filterwarnings(\"ignore\")\n",
    "model.create_system(PDB_file, flag_membrane = False, lam_bond = None) "
   ]
  },
  {
   "cell_type": "markdown",
   "id": "3eee92a7-e149-45ef-b201-7b02fa5948c6",
   "metadata": {},
   "source": [
    "## Add the force field\n",
    "In this example, we loaded default settings for the interactions between chromosomes and chromosomes, and chromosomes and nuclear landmarks. All the types of potential can be found in \"Section: Energy function of the whole nucleus model\" in Supporting Information. According to the order of added potential, the index of speckle-speckle potential is 6, and this index is needed when transiting the speckle particle between type 6 and type 7.\n",
    "\n",
    "Because during the simulations, we would transit the dP speckle and P speckle particles, here, we logged the start index and end index of speckle particle, and computed the number of speckle particles."
   ]
  },
  {
   "cell_type": "code",
   "execution_count": 4,
   "id": "9c8cf2a5-8071-4e29-82d5-c087905883bf",
   "metadata": {},
   "outputs": [],
   "source": [
    "# Add the default force field\n",
    "model.load_default_settings()\n",
    "\n",
    "index_spec_spec_potential = 6\n",
    "start_spec_index = model.N_chr_nuc+1\n",
    "end_spec_index = model.N_chr_nuc_spec+1\n",
    "N_spec = end_spec_index-start_spec_index #Currently, the number of speckle is 1600."
   ]
  },
  {
   "cell_type": "markdown",
   "id": "d5d920a1-35a3-4258-a774-2d351b3efc46",
   "metadata": {},
   "source": [
    "## Perform the simulation\n",
    "We first created the simulation with a specific Platform, and here, we used \"CUDA\" but users can also use \"CPU\", \"Reference\", and \"OpenCL\" according to their hardware. Before the simulation, we minimized the energy to make the system much more reasonable and stable. After randomly setting velocity, we started our simulation with a total length of 100,000 steps and output the configuration and energy every 2000 steps, and change the speckle types every 4000 steps as we mentioned in the previous blocks."
   ]
  },
  {
   "cell_type": "code",
   "execution_count": 5,
   "id": "f64c55d0-1db4-4897-a4be-1a774f26281e",
   "metadata": {},
   "outputs": [
    {
     "name": "stdout",
     "output_type": "stream",
     "text": [
      "#\"Progress (%)\"\t\"Step\"\t\"Potential Energy (kJ/mole)\"\t\"Kinetic Energy (kJ/mole)\"\t\"Temperature (K)\"\t\"Time Remaining\"\n",
      "2.0%\t2000\t367495.7669358104\t282797.8944139855\t362.55922699726284\t--\n",
      "4.0%\t4000\t235759.69528613565\t167675.22345206433\t214.96694495320594\t14:54\n",
      "6.0%\t6000\t171087.052020783\t130217.82671783745\t166.9449296781888\t14:13\n",
      "8.0%\t8000\t140515.26494911895\t111275.25943313411\t142.65973276639016\t13:39\n",
      "10.0%\t10000\t125368.087732778\t102810.80786130109\t131.8079369098515\t13:10\n",
      "12.0%\t12000\t117376.52195212603\t98466.51341685961\t126.23836207659802\t12:44\n",
      "14.0%\t14000\t114852.89707494565\t96549.28505997045\t123.78039175651706\t12:22\n",
      "16.0%\t16000\t112193.1183506788\t95583.93861041898\t122.54277553147692\t12:00\n",
      "18.0%\t18000\t112577.73291718189\t95833.92544928049\t122.86326955511502\t11:40\n",
      "20.0%\t20000\t111013.6161532189\t95048.31954809427\t121.8560885474601\t11:20\n",
      "22.0%\t22000\t111124.65187571285\t95007.14447947072\t121.8033003147802\t11:01\n",
      "24.0%\t24000\t109703.81546793316\t94113.52477296331\t120.65764090068797\t10:42\n",
      "26.0%\t26000\t110124.32631537132\t94404.09200364341\t121.03016075542172\t10:23\n",
      "28.0%\t28000\t109471.35207686979\t93775.2217118317\t120.22392163064583\t10:05\n",
      "30.0%\t30000\t109414.20283531002\t93707.94912728082\t120.13767524503035\t9:47\n",
      "32.0%\t32000\t109030.87855001341\t93978.55060480286\t120.48459813396491\t9:29\n",
      "34.0%\t34000\t110288.74451839576\t93719.61036363144\t120.15262545831207\t9:12\n",
      "36.0%\t36000\t109133.48199993843\t93936.95348184755\t120.43126880923552\t8:54\n",
      "38.0%\t38000\t109725.90360448524\t93800.8960497845\t120.25683725097292\t8:37\n",
      "40.0%\t40000\t109326.11657845143\t93912.5868302048\t120.40002969975625\t8:19\n",
      "42.0%\t42000\t109508.29458044206\t93853.33100302253\t120.32406114651505\t8:02\n",
      "44.0%\t44000\t108030.49122113321\t94359.62394166026\t120.97315076172256\t7:45\n",
      "46.0%\t46000\t109324.57945179308\t93888.30775960074\t120.36890287298597\t7:27\n",
      "48.0%\t48000\t108912.24186978934\t94367.3257066506\t120.98302476013828\t7:10\n",
      "50.0%\t50000\t109121.20849680767\t94232.02649495087\t120.80956527343014\t6:53\n",
      "52.0%\t52000\t108873.38117846011\t94055.6873896754\t120.58349085434527\t6:36\n",
      "54.0%\t54000\t109141.16086365236\t93884.52568206599\t120.36405408473638\t6:19\n",
      "56.0%\t56000\t108073.24893893718\t94234.76028549417\t120.81307011206482\t6:02\n",
      "58.0%\t58000\t108702.2732262873\t94263.46470224726\t120.84987042548644\t5:45\n",
      "60.0%\t60000\t108072.54099313551\t94209.6874356105\t120.7809256256595\t5:28\n",
      "62.0%\t62000\t108437.69030769264\t94088.27059985803\t120.62526395000918\t5:12\n",
      "64.0%\t64000\t107713.72148953559\t94561.69732655528\t121.23221764896398\t4:55\n",
      "66.0%\t66000\t108317.93981621778\t94079.97215821434\t120.61462498611641\t4:38\n",
      "68.0%\t68000\t107641.04713521237\t94126.55605809964\t120.67434757622951\t4:22\n",
      "70.0%\t70000\t108024.77638102224\t94311.39277062661\t120.9113162981974\t4:05\n",
      "72.0%\t72000\t107419.98392831715\t94173.76270503228\t120.73486855520106\t3:49\n",
      "74.0%\t74000\t107969.85430972926\t93755.09962758848\t120.19812424158141\t3:32\n",
      "76.0%\t76000\t107678.76056310008\t93939.16731298815\t120.43410703725239\t3:16\n",
      "78.0%\t78000\t107374.34768425042\t94462.38767462892\t121.10489834656818\t2:59\n",
      "80.0%\t80000\t107817.41482812751\t93972.4881119143\t120.47682575383487\t2:43\n",
      "82.0%\t82000\t108086.74675421769\t94207.55529146957\t120.77819212393673\t2:26\n",
      "84.0%\t84000\t107310.82770954433\t94491.09644685153\t121.14170424389157\t2:10\n",
      "86.0%\t86000\t107885.64920007197\t93868.90734717458\t120.34403069864666\t1:54\n",
      "88.0%\t88000\t107736.80258947235\t93570.19573137673\t119.96106938720129\t1:37\n",
      "90.0%\t90000\t107713.27861311697\t94226.09442259851\t120.8019600981122\t1:21\n",
      "92.0%\t92000\t107620.4990942495\t93997.73327756774\t120.5091911565678\t1:05\n",
      "94.0%\t94000\t107743.27091431194\t94050.18155327192\t120.57643213209221\t0:48\n",
      "96.0%\t96000\t107335.58241509362\t93879.97344325577\t120.35821791616252\t0:32\n",
      "98.0%\t98000\t107546.92037935977\t94537.63123280642\t121.20136386780514\t0:16\n",
      "100.0%\t100000\t106746.65087638234\t94203.48282614407\t120.7729710458822\t0:00\n"
     ]
    }
   ],
   "source": [
    "#model.save_system(\"model_before_simulation_0.xml\")\n",
    "\n",
    "simulation = model.create_simulation(platform_type = \"CUDA\") # Users can also use CPU, Reference, OpenCL.\n",
    "simulation.context.setPositions(model.chr_positions)\n",
    "\n",
    "simulation.minimizeEnergy()\n",
    "\n",
    "simulation.reporters.append(mdtraj.reporters.DCDReporter('step_100000.dcd', sampling_freq))\n",
    "\n",
    "def setVelocity(context):\n",
    "    sigma = u.sqrt(1.0*u.kilojoule_per_mole / model.chr_system.getParticleMass(1))\n",
    "    velocs = u.Quantity(1.0 * np.random.normal(size=(model.chr_system.getNumParticles(), 3)),\n",
    "                        u.meter) * (sigma / u.meter)\n",
    "    context.setVelocities(velocs)\n",
    "setVelocity(simulation.context)\n",
    "\n",
    "simulation.reporters.append(mmapp.statedatareporter.StateDataReporter(sys.stdout, sampling_freq, step=True,\n",
    "    potentialEnergy=True, kineticEnergy=True, temperature=True, progress=True,\n",
    "    remainingTime=True, separator='\\t', totalSteps = total_steps))\n",
    "\n",
    "for i in range(total_steps//transition_freq):\n",
    "    simulation.step(transition_freq)\n",
    "    # Change the type of speckles every 4000 steps, non-equilibrium scheme.\n",
    "\n",
    "    # Do the chemical modification, and change the spec-spec potential on the fly.\n",
    "    for j in np.random.randint(start_spec_index-1, end_spec_index-1, N_spec): \n",
    "\n",
    "        if model.compart_type[j] == dP_type-1:\n",
    "            model.compart_type[j] = P_type-1 if random.random() < prob_dP_P else dP_type-1\n",
    "        else:\n",
    "            model.compart_type[j] = dP_type-1 if random.random() < prob_P_dP else P_type-1\n",
    "\n",
    "    # Update the context after changing the type of speckles.\n",
    "    for m in range(model.chr_system.getNumParticles()):\n",
    "        model.chr_system.getForce(index_spec_spec_potential).setParticleParameters(m, [model.compart_type[m]])\n",
    "    model.chr_system.getForce(index_spec_spec_potential).updateParametersInContext(simulation.context)\n",
    "\n",
    "# Keep the final result of spec types in case constructing the configuration for the continuous simulation.\n",
    "np.savetxt('compt_final_frame.txt', (np.array(model.compart_type)+1).reshape((-1,1)), fmt='%d')"
   ]
  }
 ],
 "metadata": {
  "kernelspec": {
   "display_name": "Python [conda env:anaconda3-openmm]",
   "language": "python",
   "name": "conda-env-anaconda3-openmm-py"
  },
  "language_info": {
   "codemirror_mode": {
    "name": "ipython",
    "version": 3
   },
   "file_extension": ".py",
   "mimetype": "text/x-python",
   "name": "python",
   "nbconvert_exporter": "python",
   "pygments_lexer": "ipython3",
   "version": "3.6.15"
  }
 },
 "nbformat": 4,
 "nbformat_minor": 5
}
