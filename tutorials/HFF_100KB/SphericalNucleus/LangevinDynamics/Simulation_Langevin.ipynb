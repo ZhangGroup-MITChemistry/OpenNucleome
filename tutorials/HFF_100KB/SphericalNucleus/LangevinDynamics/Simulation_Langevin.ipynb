{
 "cells": [
  {
   "cell_type": "markdown",
   "id": "c4185e43-9c43-400c-9688-7b3831dacecb",
   "metadata": {},
   "source": [
    "## Import the necessary packages"
   ]
  },
  {
   "cell_type": "code",
   "execution_count": 1,
   "id": "d7dfe668-ce05-48b3-98ba-a5b73e0df96d",
   "metadata": {},
   "outputs": [],
   "source": [
    "import parmed as pmd\n",
    "import json\n",
    "import sys\n",
    "from sys import platform\n",
    "import mdtraj as md\n",
    "import simtk.openmm.app as mmapp\n",
    "import mdtraj.reporters\n",
    "import simtk.unit as u\n",
    "import random\n",
    "from openNucleome import OpenNucleome\n",
    "import warnings\n",
    "import numpy as np"
   ]
  },
  {
   "cell_type": "markdown",
   "id": "d8c3b70a-21f3-4228-bb57-945965ebee06",
   "metadata": {},
   "source": [
    "## Important parameters\n",
    "We defined the important parameters in the next block. First, we set the transition probability between dP particles and P particles as 0.2, and the transition frequency as 4000. When creating the system, we set type 6, 7 as the dP and P particles, respectively, so we kept using 6, 7 here. In this example, we ran a simulation with total length of 100,000 steps, and output one configuration and the energy every 2000 steps."
   ]
  },
  {
   "cell_type": "code",
   "execution_count": 2,
   "id": "5a6e5ed3-5b95-4568-af71-336b5564cafa",
   "metadata": {},
   "outputs": [],
   "source": [
    "prob_P_dP = 0.2 # Transition probability from P to dP\n",
    "prob_dP_P = 0.2 # Transition probability from dP to P\n",
    "transition_freq = 4000\n",
    "sampling_freq = 2000\n",
    "dP_type = 6\n",
    "P_type = 7\n",
    "total_steps = 100000"
   ]
  },
  {
   "cell_type": "markdown",
   "id": "95f76ca2-43ed-4768-9fce-257348ea81c0",
   "metadata": {},
   "source": [
    "## Initialize the system\n",
    "We first set up an example \"model\" of class \"OpenNucleome\" with the conserved temperature, damping coefficient, timestep, and the mass scale. In this folder, we also included the initial configuration \"human.pdb\" used for the simulation and created a system according to the initial configuration.\n",
    "\n",
    "In this example, we freezed all the lamina beads, and would not consider the dynamics of the membrane, and that is why we set \"False\" (off) for membrane dynamics. Consequently, there was also no need to set the bond between lamina beads, so we set \"None\" for the variable \"lam_bond\"."
   ]
  },
  {
   "cell_type": "code",
   "execution_count": 3,
   "id": "b0b6fb41-d073-4be8-8832-24896e0f068f",
   "metadata": {},
   "outputs": [],
   "source": [
    "model = OpenNucleome(1.0, 0.1, 0.005, 1.0) # 1.0: temperature (LJ reduced unit); \n",
    "                                           # 0.1: damping coefficient (LJ reduced unit);\n",
    "                                           # 0.005: timestep (LJ reduced unit);\n",
    "                                           # 1.0: mass_scale\n",
    "    \n",
    "PDB_file = \"human.pdb\" #The initial configuration\n",
    "\n",
    "# Generate new elements and construct topology as well\n",
    "# flag_membrane: True for including lamina dynamics, False for excluding lamina dynamics;\n",
    "# lam_bond: A file contains the lamina bond when membrane_dynamics is on.\n",
    "\n",
    "warnings.filterwarnings(\"ignore\")\n",
    "model.create_system(PDB_file, flag_membrane = False, lam_bond = None) "
   ]
  },
  {
   "cell_type": "markdown",
   "id": "3eee92a7-e149-45ef-b201-7b02fa5948c6",
   "metadata": {},
   "source": [
    "## Add the force field\n",
    "In this example, we loaded default settings for the interactions between chromosomes and chromosomes, and chromosomes and nuclear landmarks. All the types of potential can be found in \"Section: Energy function of the whole nucleus model\" in Supporting Information. According to the order of added potential, the index of speckle-speckle potential is 6, and this index is needed when transiting the speckle particle between type 6 and type 7.\n",
    "\n",
    "Because during the simulations, we would transit the dP speckle and P speckle particles, here, we logged the start index and end index of speckle particle, and computed the number of speckle particles."
   ]
  },
  {
   "cell_type": "code",
   "execution_count": 4,
   "id": "9c8cf2a5-8071-4e29-82d5-c087905883bf",
   "metadata": {},
   "outputs": [],
   "source": [
    "# Add the default force field\n",
    "model.load_default_settings()\n",
    "\n",
    "index_spec_spec_potential = 6\n",
    "start_spec_index = model.N_chr_nuc+1\n",
    "end_spec_index = model.N_chr_nuc_spec+1\n",
    "N_spec = end_spec_index-start_spec_index #Currently, the number of speckle is 1600."
   ]
  },
  {
   "cell_type": "markdown",
   "id": "d5d920a1-35a3-4258-a774-2d351b3efc46",
   "metadata": {},
   "source": [
    "## Perform the simulation\n",
    "We first created the simulation with a specific Platform, and here, we used \"CUDA\" but users can also use \"CPU\", \"Reference\", and \"OpenCL\" according to their hardware. Before the simulation, we minimized the energy to make the system much more reasonable and stable. After randomly setting velocity, we started our simulation with a total length of 100,000 steps and output the configuration and energy every 2000 steps, and change the speckle types every 4000 steps as we mentioned in the previous blocks."
   ]
  },
  {
   "cell_type": "code",
   "execution_count": 5,
   "id": "f64c55d0-1db4-4897-a4be-1a774f26281e",
   "metadata": {},
   "outputs": [
    {
     "name": "stdout",
     "output_type": "stream",
     "text": [
      "#\"Progress (%)\"\t\"Step\"\t\"Potential Energy (kJ/mole)\"\t\"Kinetic Energy (kJ/mole)\"\t\"Temperature (K)\"\t\"Time Remaining\"\n",
      "2.0%\t2000\t90812.88966909601\t85246.95540730048\t109.29031250528479\t--\n",
      "4.0%\t4000\t96369.73678534562\t90346.3031670411\t115.82789859938532\t12:13\n",
      "6.0%\t6000\t100456.93426599429\t91971.57921827828\t117.91157333824707\t12:03\n",
      "8.0%\t8000\t100732.65725941051\t93762.58229807776\t120.20771735129706\t11:47\n",
      "10.0%\t10000\t101912.06842220479\t93909.8137293981\t120.39647446365045\t11:32\n",
      "12.0%\t12000\t102077.18352433582\t93738.24269554764\t120.17651291995918\t11:16\n",
      "14.0%\t14000\t102507.6206253657\t94352.85125386107\t120.96446788076173\t11:01\n",
      "16.0%\t16000\t102332.01644831526\t94149.37679451951\t120.70360475501099\t10:45\n",
      "18.0%\t18000\t102843.58527859727\t94155.95090951695\t120.71203305698475\t10:30\n",
      "20.0%\t20000\t102449.96785285501\t94100.26429501935\t120.64064038997716\t10:14\n",
      "22.0%\t22000\t102498.62898707755\t94249.76141954702\t120.83230221977749\t9:59\n",
      "24.0%\t24000\t102286.69917441542\t94663.78843906405\t121.36310290506242\t9:44\n",
      "26.0%\t26000\t102116.82094245378\t94126.77252159236\t120.67462509186221\t9:28\n",
      "28.0%\t28000\t102210.38392058914\t94198.76316544907\t120.76692023515459\t9:13\n",
      "30.0%\t30000\t102444.99434194757\t94141.08537367637\t120.69297479209055\t8:58\n",
      "32.0%\t32000\t101369.80611426407\t93916.20412206341\t120.4046672255865\t8:42\n",
      "34.0%\t34000\t101195.19750581686\t94443.45457452197\t121.0806252869909\t8:27\n",
      "36.0%\t36000\t101589.26893676126\t94492.53249616487\t121.14354532170458\t8:11\n",
      "38.0%\t38000\t102490.88557426611\t94455.77161551094\t121.09641627040367\t7:56\n",
      "40.0%\t40000\t101067.57946963378\t94323.36750518181\t120.92666842984191\t7:41\n",
      "42.0%\t42000\t102087.54819468992\t94186.89189098265\t120.75170074385343\t7:25\n",
      "44.0%\t44000\t101700.36719797965\t93897.04821874206\t120.38010852257698\t7:10\n",
      "46.0%\t46000\t102256.0398421788\t94219.53863438945\t120.79355529187995\t6:55\n",
      "48.0%\t48000\t101713.41069433642\t94108.60494794801\t120.65133347057711\t6:39\n",
      "50.0%\t50000\t102673.74136143837\t94425.21824506021\t121.05724551775103\t6:24\n",
      "52.0%\t52000\t101496.46447340891\t94186.05071270696\t120.75062231663942\t6:09\n",
      "54.0%\t54000\t102122.03719513642\t94067.71989351085\t120.59891704872506\t5:53\n",
      "56.0%\t56000\t101874.15041885676\t94175.02776744928\t120.73649042036016\t5:38\n",
      "58.0%\t58000\t102127.79767299132\t94232.26292001863\t120.8098683806721\t5:22\n",
      "60.0%\t60000\t101665.78202671639\t93671.68642844183\t120.0911848845305\t5:07\n",
      "62.0%\t62000\t102164.7500196957\t94243.36924920967\t120.82410717878842\t4:52\n",
      "64.0%\t64000\t102108.3451850054\t93802.39389371427\t120.25875755217766\t4:36\n",
      "66.0%\t66000\t102574.0443947289\t93506.06188753103\t119.87884700397865\t4:21\n",
      "68.0%\t68000\t101935.68749432208\t94139.72225866799\t120.69122721923549\t4:06\n",
      "70.0%\t70000\t102873.96203351908\t94061.45967238012\t120.59089117237016\t3:50\n",
      "72.0%\t72000\t101531.3523515871\t93820.48873793057\t120.28195593116592\t3:35\n",
      "74.0%\t74000\t101920.2988555147\t94119.40175443937\t120.66517544710123\t3:20\n",
      "76.0%\t76000\t101811.67162068147\t93781.21118262374\t120.23160039326528\t3:04\n",
      "78.0%\t78000\t102013.57723869113\t94235.08553613431\t120.81348709756224\t2:49\n",
      "80.0%\t80000\t102159.935065131\t93554.08907752317\t119.94041995491764\t2:33\n",
      "82.0%\t82000\t101843.06801923522\t94107.61660213096\t120.65006636816047\t2:18\n",
      "84.0%\t84000\t101765.51999383801\t93592.74445402701\t119.98997783247384\t2:03\n",
      "86.0%\t86000\t101914.99518852914\t94364.38269286383\t120.97925168818601\t1:47\n",
      "88.0%\t88000\t101836.68350284295\t94289.90154824998\t120.8837636143691\t1:32\n",
      "90.0%\t90000\t102820.19363225954\t94048.05181499594\t120.57370171479315\t1:16\n",
      "92.0%\t92000\t102608.9638866091\t94669.78262093036\t121.37078770748441\t1:01\n",
      "94.0%\t94000\t102848.0309979431\t94290.78449166741\t120.88489558631525\t0:46\n",
      "96.0%\t96000\t102535.834617305\t94029.70655149731\t120.55018228736988\t0:30\n",
      "98.0%\t98000\t102926.54357112164\t94282.41808870896\t120.87416949305472\t0:15\n",
      "100.0%\t100000\t102115.2321858303\t93741.18779424898\t120.1802886648628\t0:00\n"
     ]
    }
   ],
   "source": [
    "#model.save_system(\"model_before_simulation_0.xml\")\n",
    "\n",
    "simulation = model.create_simulation(platform_type = \"CUDA\") # Users can also use CPU, Reference, OpenCL.\n",
    "simulation.context.setPositions(model.chr_positions)\n",
    "\n",
    "simulation.minimizeEnergy()\n",
    "\n",
    "simulation.reporters.append(mdtraj.reporters.DCDReporter('step_100000.dcd', sampling_freq))\n",
    "\n",
    "def setVelocity(context):\n",
    "    sigma = u.sqrt(1.0*u.kilojoule_per_mole / model.chr_system.getParticleMass(1))\n",
    "    velocs = u.Quantity(1.0 * np.random.normal(size=(model.chr_system.getNumParticles(), 3)),\n",
    "                        u.meter) * (sigma / u.meter)\n",
    "    context.setVelocities(velocs)\n",
    "setVelocity(simulation.context)\n",
    "\n",
    "simulation.reporters.append(mmapp.statedatareporter.StateDataReporter(sys.stdout, sampling_freq, step=True,\n",
    "    potentialEnergy=True, kineticEnergy=True, temperature=True, progress=True,\n",
    "    remainingTime=True, separator='\\t', totalSteps = total_steps))\n",
    "\n",
    "for i in range(total_steps//transition_freq):\n",
    "    simulation.step(transition_freq)\n",
    "    # Change the type of speckles every 4000 steps, non-equilibrium scheme.\n",
    "\n",
    "    # Do the chemical modification, and change the spec-spec potential on the fly.\n",
    "    for j in np.random.randint(start_spec_index-1, end_spec_index-1, N_spec): \n",
    "\n",
    "        if model.compart_type[j] == dP_type-1:\n",
    "            model.compart_type[j] = P_type-1 if random.random() < prob_dP_P else dP_type-1\n",
    "        else:\n",
    "            model.compart_type[j] = dP_type-1 if random.random() < prob_P_dP else P_type-1\n",
    "\n",
    "    # Update the context after changing the type of speckles.\n",
    "    for m in range(model.chr_system.getNumParticles()):\n",
    "        model.chr_system.getForce(index_spec_spec_potential).setParticleParameters(m, [model.compart_type[m]])\n",
    "    model.chr_system.getForce(index_spec_spec_potential).updateParametersInContext(simulation.context)\n",
    "\n",
    "# Keep the final result of spec types in case constructing the configuration for the continuous simulation.\n",
    "np.savetxt('compt_final_frame.txt', (np.array(model.compart_type)+1).reshape((-1,1)), fmt='%d')"
   ]
  }
 ],
 "metadata": {
  "kernelspec": {
   "display_name": "Python [conda env:anaconda3-openmm]",
   "language": "python",
   "name": "conda-env-anaconda3-openmm-py"
  },
  "language_info": {
   "codemirror_mode": {
    "name": "ipython",
    "version": 3
   },
   "file_extension": ".py",
   "mimetype": "text/x-python",
   "name": "python",
   "nbconvert_exporter": "python",
   "pygments_lexer": "ipython3",
   "version": "3.6.15"
  }
 },
 "nbformat": 4,
 "nbformat_minor": 5
}
