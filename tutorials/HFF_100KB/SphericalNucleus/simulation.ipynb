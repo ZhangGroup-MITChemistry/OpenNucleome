{
 "cells": [
  {
   "cell_type": "markdown",
   "id": "abbcbe8f-b163-46a4-9c8f-84d194be4309",
   "metadata": {},
   "source": [
    "## Import the necessary packages"
   ]
  },
  {
   "cell_type": "code",
   "execution_count": null,
   "id": "cce78b79-5e3c-4712-8cd8-2fd3875c2cb0",
   "metadata": {},
   "outputs": [],
   "source": [
    "import parmed as pmd\n",
    "import json\n",
    "import sys\n",
    "from sys import platform\n",
    "import mdtraj as md\n",
    "import mdtraj.reporters\n",
    "import random\n",
    "from openNucleome import OpenNucleome"
   ]
  },
  {
   "cell_type": "markdown",
   "id": "0987436b-c228-4ba7-baa9-28e21b3a63ed",
   "metadata": {},
   "source": [
    "## Important parameters"
   ]
  },
  {
   "cell_type": "code",
   "execution_count": null,
   "id": "157264b7-9a55-48d5-b369-b389aa292dd8",
   "metadata": {},
   "outputs": [],
   "source": [
    "prob_P_dP = 0.2 # Transition probability from P to dP\n",
    "prob_dP_P = 0.2 # Transition probability from dP to P\n",
    "transition_freq = 4000\n",
    "sampling_freq = 2000\n",
    "dP_type = 6\n",
    "P_type = 7\n",
    "total_steps = 3000000"
   ]
  },
  {
   "cell_type": "markdown",
   "id": "8e0e9ef8-97a2-488e-ba82-5fdfe446b9b3",
   "metadata": {},
   "source": [
    "## Initialize the system"
   ]
  },
  {
   "cell_type": "code",
   "execution_count": null,
   "id": "8ba4e26b-cacb-48ec-93c9-e6fa6409a9d1",
   "metadata": {},
   "outputs": [],
   "source": [
    "model = OpenNucleome(1.0, 0.1, 0.005, 1.0) # 1.0: temperature (LJ reduced unit); 0.1: damping coefficient (LJ reduced unit); 0.005: timestep (LJ reduced unit); 1.0: mass_scale\n",
    "PDB_file = \"human.pdb\"\n",
    "# Generate new elements and construct topology as well; membrane_dynamics: True for including lamina dynamics, False for excluding lamina dynamics; membrane_bond: A file contains the lamina bond when membrane_dynamics is on.\n",
    "model.create_system(PDB_file, membrane_dynamics = False, membrane_bond = None) \n",
    "\n",
    "index_spec_spec_potential = 6\n",
    "start_spec_index = model.N_chr_nuc+1\n",
    "end_spec_index = model.N_chr_nuc_spec+1\n",
    "N_spec = start_spec_index-end_spec_index"
   ]
  },
  {
   "cell_type": "markdown",
   "id": "07c89f5c-7839-45ae-8b98-186d5600b42e",
   "metadata": {},
   "source": [
    "## Add force field"
   ]
  },
  {
   "cell_type": "code",
   "execution_count": null,
   "id": "44d8e300-07d3-4e37-8991-9820bffb5a58",
   "metadata": {},
   "outputs": [],
   "source": [
    "# add the default force field\n",
    "model.load_default_settings()"
   ]
  },
  {
   "cell_type": "markdown",
   "id": "6c942879-33b9-4ddd-92bf-0ebae07561cb",
   "metadata": {},
   "source": [
    "## Perform simulation, in this example, total step = 3,000,000, output to dcd every 2000 steps, and output the energy (similar to thermo in lammps) every 2000 steps"
   ]
  },
  {
   "cell_type": "code",
   "execution_count": null,
   "id": "5f55005e-3048-44ea-9a53-cbc4a55e2940",
   "metadata": {},
   "outputs": [],
   "source": [
    "#model.save_system(\"model_before_simulation_0.xml\")\n",
    "\n",
    "simulation = model.create_simulation(platform_type = \"CUDA\")\n",
    "simulation.context.setPositions(model.chr_positions)\n",
    "\n",
    "simulation.minimizeEnergy()\n",
    "\n",
    "simulation.reporters.append(mdtraj.reporters.DCDReporter('HFF_3e6_every2000.dcd', sampling_freq))\n",
    "\n",
    "def setVelocity(context):\n",
    "    sigma = u.sqrt(1.0*u.kilojoule_per_mole / model.chr_system.getParticleMass(1))\n",
    "    velocs = u.Quantity(1.0 * np.random.normal(size=(model.chr_system.getNumParticles(), 3)), u.meter) * (sigma / u.meter)\n",
    "    context.setVelocities(velocs)\n",
    "setVelocity(simulation.context)\n",
    "\n",
    "simulation.reporters.append(mmapp.statedatareporter.StateDataReporter(sys.stdout, sampling_freq, step=True,\n",
    "    potentialEnergy=True, kineticEnergy=True, temperature=True, progress=True, remainingTime=True, separator='\\t', totalSteps = total_steps))\n",
    "\n",
    "for i in range(total_steps//transition_freq):\n",
    "    simulation.step(transition_freq)\n",
    "    # Change the type of speckles every 4000 steps, non-equilibrium scheme.\n",
    "\n",
    "    for j in np.random.randint(start_spec_index, end_spec_index, N_spec): # Do the chemical modification, and change the spec-spec potential on the fly\n",
    "\n",
    "        if model.compart_type[j] == dP_type-1:\n",
    "            model.compart_type[j] = P_type-1 if random.random() < prob_dP_P else dP_type-1\n",
    "        else:\n",
    "            model.compart_type[j] = dP_type-1 if random.random() < prob_P_dP else P_type-1\n",
    "\n",
    "    for m in range(model.chr_system.getNumParticles()):\n",
    "        model.chr_system.getForce(index_spec_spec_potential).setParticleParameters(m, [model.compart_type[m]])\n",
    "    model.chr_system.getForce(index_spec_spec_potential).updateParametersInContext(simulation.context)\n",
    "\n",
    "# Keep the final result of spec types in case constructing the configuration for the continuous simulation.\n",
    "np.savetxt('compt_final_frame.txt', (np.array(model.compart_type)+1).reshape((-1,1)), fmt='%d')"
   ]
  }
 ],
 "metadata": {
  "kernelspec": {
   "display_name": "Python 3",
   "language": "python",
   "name": "python3"
  },
  "language_info": {
   "codemirror_mode": {
    "name": "ipython",
    "version": 3
   },
   "file_extension": ".py",
   "mimetype": "text/x-python",
   "name": "python",
   "nbconvert_exporter": "python",
   "pygments_lexer": "ipython3",
   "version": "3.8.8"
  }
 },
 "nbformat": 4,
 "nbformat_minor": 5
}
