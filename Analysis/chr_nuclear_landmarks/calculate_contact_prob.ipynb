{
  "metadata": {
    "language_info": {
      "name": ""
    },
    "kernelspec": {
      "name": "python",
      "display_name": "Python (Pyodide)",
      "language": "python"
    }
  },
  "nbformat_minor": 4,
  "nbformat": 4,
  "cells": [
    {
      "cell_type": "code",
      "source": "import numpy as np\nimport MDAnalysis as mda\nimport sklearn.cluster as sk\nimport matplotlib.pyplot as plt\nimport copy\nimport subprocess\nfrom joblib import Parallel, delayed\nimport scipy.stats\nimport sys\nimport os",
      "metadata": {},
      "execution_count": null,
      "outputs": []
    },
    {
      "cell_type": "code",
      "source": "iter_num        = int(sys.argv[1])\nsigma_tanh          =  4\nrc_tanh             =  0.75\n\nN_chr_beads         = 60642\n\nfirst_frame                 = 500\nN_nucleolus_particles       = 300\nN_speckles_particles        = 600\nN_lamina_particles          = 8000\nradius_nucleus              = 13.0",
      "metadata": {},
      "execution_count": null,
      "outputs": []
    },
    {
      "cell_type": "code",
      "source": "\"\"\"Info files\"\"\"\ngLength             = np.loadtxt(\"gLengthFile.txt\",dtype=int)\nmaternalIdx         = np.loadtxt(\"maternalIdxFile.txt\",dtype=int)\npaternalIdx         = np.loadtxt(\"paternalIdxFile.txt\",dtype=int)\n\"\"\"\"\"\"",
      "metadata": {},
      "execution_count": null,
      "outputs": []
    },
    {
      "cell_type": "code",
      "source": "def process_traj_win(win_num):\n\n    traj_data                   = mda.coordinates.LAMMPS.DCDReader(\"../../examples/HFF_100KB/DUMP_FILE.dcd\")\n    N_frame                     = len(traj_data)-first_frame\n    exp_tsa_seq                 = np.zeros(N_chr_beads)\n    exp_damid                   = np.zeros(N_chr_beads)\n    exp_tsa_seq_all_frames      = np.zeros((N_frame,N_chr_beads))\n    exp_damid_all_frames        = np.zeros((N_frame,N_chr_beads))\n\n    for frame_number in range(first_frame,len(traj_data),1):\n        chr_I_data          = traj_data.trajectory[frame_number].positions[:N_chr_beads]\n        speckles_data       = traj_data.trajectory[frame_number].positions[(N_chr_beads+N_nucleolus_particles):(N_chr_beads+N_nucleolus_particles+N_speckles_particles)]\n        lamina_data         = traj_data.trajectory[frame_number].positions[(N_chr_beads+N_nucleolus_particles+N_speckles_particles):]\n\n        #Following code identifies the speckles clusters in the system and calculates and saves center of mass positions\n        \"\"\"Code Snippet from DBSCAN Python Page\"\"\"\n        \"\"\"https://scikit-learn.org/stable/auto_examples/cluster/plot_dbscan.html#sphx-glr-auto-examples-cluster-plot-dbscan-py\"\"\"\n        db = sk.DBSCAN(eps=1.0).fit(speckles_data)\n        core_samples_mask = np.zeros_like(db.labels_, dtype=bool)\n        core_samples_mask[db.core_sample_indices_] = True\n        labels = db.labels_\n        # Number of clusters in labels, ignoring noise if present.\n        n_clusters_ = len(set(labels)) - (1 if -1 in labels else 0)\n        n_noise_ = list(labels).count(-1)\n\n        cluster_com_master = np.zeros((n_clusters_,3))\n        radius_cluster_master = np.zeros(n_clusters_)\n        i = 0\n        while(i<=max(labels)):\n            #Go cluster by cluster\n            r_points_cluster            = copy.deepcopy(speckles_data[labels==i])\n            cluster_com                 = np.mean(r_points_cluster,axis=0)\n            cluster_com_master[i]       = copy.deepcopy(cluster_com)\n            radius_cluster_master[i]    = (np.sum((r_points_cluster-cluster_com)**2,axis=None)/len(r_points_cluster))**0.5\n            i +=1\n\n        for i in range(len(chr_I_data)):\n            ###Speckles\n            distances_from_speckles = np.sum((cluster_com_master-chr_I_data[i])**2,axis=1)**0.5\n            distances_from_speckles -= radius_cluster_master\n\n            #Do this only for speckles\n            exp_tsa_seq_all_frames[frame_number-first_frame,i] = np.sum(0.5*(1.0+np.tanh(sigma_tanh*(rc_tanh-distances_from_speckles))),axis=None)\n            #exp_tsa_seq will be normalized by total (itself) while getting enrichment and so it does not matter if I divide by number of speckles\n            #But have to divide exp_tsa_seq_all_frames by number of speckles so that the values can be interpretted as probabilities\n            #when calculating correlations\n            exp_tsa_seq_all_frames[frame_number-first_frame,i] /= float(n_clusters_)\n            exp_tsa_seq[i] += copy.deepcopy(exp_tsa_seq_all_frames[frame_number-first_frame,i])\n\n            ###Lamina\n            distances_from_lamina = np.sum((lamina_data-chr_I_data[i])**2,axis=1)**0.5\n\n            #Do this only for lamina\n            exp_damid_all_frames[frame_number-first_frame,i] = np.sum(0.5*(1.0+np.tanh(sigma_tanh*(rc_tanh-distances_from_lamina))),axis=None)\n            exp_damid[i] += copy.deepcopy(exp_damid_all_frames[frame_number-first_frame,i])\n\n\n        if frame_number%20==0:\n            print(\"Window %d Frame %d done\"%(win_num,frame_number))\n            print(n_clusters_,n_noise_) #This will report speckles\n\n    np.save(\"exp_tsa_seq_iter%d_win%d\"%(iter_num,win_num),exp_tsa_seq)\n    np.save(\"exp_damid_iter%d_win%d\"%(iter_num,win_num),exp_damid)\n    np.save(\"exp_tsa_seq_all_frames_iter%d_win%d\"%(iter_num,win_num),exp_tsa_seq_all_frames)\n    np.save(\"exp_damid_all_frames_iter%d_win%d\"%(iter_num,win_num),exp_damid_all_frames)\n    \n    damid_all_frames_haploid = np.zeros((N_frame,int(N_chr_beads/2)))\n    tsaseq_all_frames_haploid = np.zeros((N_frame,int(N_chr_beads/2)))\n    for i in range(23):\n        damid_all_frames_haploid[:,gLength[i]:gLength[i+1]] = 0.5*(exp_damid_all_frames[:,maternalIdx[i][0]-1:maternalIdx[i][1]]+exp_damid_all_frames[:,paternalIdx[i][0]-1:paternalIdx[i][1]])\n        tsaseq_all_frames_haploid[:,gLength[i]:gLength[i+1]] = 0.5*(exp_tsa_seq_all_frames[:,maternalIdx[i][0]-1:maternalIdx[i][1]]+exp_tsa_seq_all_frames[:,paternalIdx[i][0]-1:paternalIdx[i][1]])\n\n    np.save(\"cvInd.txt_%d\"%win_num,np.sum(damid_all_frames_haploid,axis=0))\n    np.save(\"cvInd_tsa.txt_%d\"%win_num,np.sum(tsaseq_all_frames_haploid,axis=0))",
      "metadata": {},
      "execution_count": null,
      "outputs": []
    },
    {
      "cell_type": "code",
      "source": "win_to_run = int(sys.argv[2])\nprocess_traj_win(win_to_run)",
      "metadata": {},
      "execution_count": null,
      "outputs": []
    }
  ]
}