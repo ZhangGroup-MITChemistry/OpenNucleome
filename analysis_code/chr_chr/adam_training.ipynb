{
  "metadata": {
    "language_info": {
      "name": ""
    },
    "kernelspec": {
      "name": "python",
      "display_name": "Python (Pyodide)",
      "language": "python"
    }
  },
  "nbformat_minor": 4,
  "nbformat": 4,
  "cells": [
    {
      "cell_type": "code",
      "source": "import numpy as np\nimport os\nimport subprocess\nimport sys\nimport copy",
      "metadata": {},
      "execution_count": null,
      "outputs": []
    },
    {
      "cell_type": "code",
      "source": "run_number                  = int(sys.argv[1])\nN_replicas                  = int(sys.argv[2])\n\nwrite_potential_path        = \"../../examples/HFF_100KB/potential\"\n\nnAtom  = 60642\nnIdeal = 2490-1\nncompt = 3\nnChrom = 22\nninter = int(nChrom*(nChrom-1)/2)\nncv    = int(nIdeal + ncompt*(ncompt+1)/2 + ninter)\n\nchop_ideals             = 1000",
      "metadata": {},
      "execution_count": null,
      "outputs": []
    },
    {
      "cell_type": "code",
      "source": "## Adam training parameters\nm_dw                    = np.loadtxt('iter_num/%02d/mdw.txt'%(run_number-1))\nv_dw                    = np.loadtxt('iter_num/%02d/vdw.txt'%(run_number-1))\nm_db                    = np.loadtxt('iter_num/%02d/mdb.txt'%(run_number-1))\nv_db                    = np.loadtxt('iter_num/%02d/vdb.txt'%(run_number-1))\nbeta1                   = 0.9\nbeta2                   = 0.999\nepsilon                 = 1e-8\neta1                    = 0.01\neta2                    = 0.01\neta3                    = 0.01\nt                       = int(np.loadtxt('iter_num/%02d/t.txt'%(run_number-1)))",
      "metadata": {},
      "execution_count": null,
      "outputs": []
    },
    {
      "cell_type": "code",
      "source": "start_cv                = 1  \nend_cv                  = 2726\n\nold_iter                = run_number-1\n\ncvInd   = np.zeros((ncv, ), dtype=float)\nirun    = 0\nfor replica in range(1,N_replicas+1,1):\n    #If simulation didn't complete\n    if os.path.exists(\"cvInd.txt_replica_%d\"%replica):\n        cvInd   += np.loadtxt(\"cvInd.txt_replica_%d\"%replica)\n        irun    += np.loadtxt(\"nframes.txt_replica_%d\"%replica)\ncvInd /= irun\nnp.savetxt('cvInd_iter%02d.txt'%(run_number), cvInd, fmt='%14.7e')\n\nexpt        = np.loadtxt(\"expt_constraints_HFF_100KB.txt\")\n\ngrad        = -cvInd + expt",
      "metadata": {},
      "execution_count": null,
      "outputs": []
    },
    {
      "cell_type": "code",
      "source": "## START TO DO THE ADAM TRAINING\n## momentum beta 1\n# *** weights *** #\nm_dw        = beta1*m_dw + (1-beta1)*grad\n# *** biases *** #\nm_db        = beta1*m_db + (1-beta1)*grad\n## rms beta 2\n# *** weights *** #\nv_dw        = beta2*v_dw + (1-beta2)*(grad**2)\n# *** biases *** #\nv_db        = beta2*v_db + (1-beta2)*grad\n\nsubprocess.call([\"mkdir -p %s/%02d\"%(write_potential_path,run_number)],shell=True,stdout=subprocess.PIPE)\nnp.savetxt('iter_num/%02d/mdw.txt'%(run_number), m_dw.reshape((-1,1)), fmt='%15.12e')\nnp.savetxt('iter_num/%02d/vdw.txt'%(run_number), v_dw.reshape((-1,1)), fmt='%15.12e')\nnp.savetxt('iter_num/%02d/mdb.txt'%(run_number), m_db.reshape((-1,1)), fmt='%15.12e')\nnp.savetxt('iter_num/%02d/vdb.txt'%(run_number), v_db.reshape((-1,1)), fmt='%15.12e')\nnp.savetxt('iter_num/%02d/t.txt'%(run_number), np.array([t+1]).reshape((-1,1)), fmt='%d')\n\n## bias correction\nm_dw_corr   = m_dw/(1-beta1**t)\nm_db_corr   = m_db/(1-beta1**t)\nv_dw_corr   = v_dw/(1-beta2**t)\nv_db_corr   = v_db/(1-beta2**t)\n\ndalpha1     = m_dw_corr/(np.sqrt(v_dw_corr)+epsilon)\ndalpha2     = m_db_corr/(np.sqrt(v_db_corr)+epsilon)",
      "metadata": {},
      "execution_count": null,
      "outputs": []
    },
    {
      "cell_type": "code",
      "source": "eigen_value_best        = 0\n\nnp.savetxt(\"iter_num/%02d/dalpha.iter%02d.cutEig%d_noIdeal.txt\"%(run_number-1,run_number,eigen_value_best),dalpha1.reshape((-1,1)),fmt='%15.12e')\n\nsubprocess.call([\"python update.py ../../ %d %d %.4f %.4f %.4f %d\"%(run_number,eigen_value_best,eta1,eta2,eta3,chop_ideals)],shell=True,stdout=subprocess.PIPE)",
      "metadata": {},
      "execution_count": null,
      "outputs": []
    }
  ]
}