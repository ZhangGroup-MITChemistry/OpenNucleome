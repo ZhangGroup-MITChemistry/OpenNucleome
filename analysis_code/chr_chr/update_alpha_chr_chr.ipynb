{
  "metadata": {
    "language_info": {
      "name": ""
    },
    "kernelspec": {
      "name": "python",
      "display_name": "Python (Pyodide)",
      "language": "python"
    }
  },
  "nbformat_minor": 4,
  "nbformat": 4,
  "cells": [
    {
      "cell_type": "code",
      "source": "from numpy import *\nfrom subprocess import *\nimport subprocess\nfrom scipy.interpolate import interp1d\nfrom scipy.optimize import minimize\nimport copy\nimport sys\nimport os",
      "metadata": {},
      "execution_count": null,
      "outputs": []
    },
    {
      "cell_type": "code",
      "source": "nAtom       = 2490-1\nnIdeal      = 2489\nncompt      = 3\nnChrom      = 22\ninter_ncv   = int(nChrom*(nChrom-1)/2)\nncv_interTAD_intraChrom = int(ncompt*(ncompt+1)/2)\n\nr_cut =  0.702\nsigma =  6.218",
      "metadata": {},
      "execution_count": null,
      "outputs": []
    },
    {
      "cell_type": "code",
      "source": "def update_alpha(iterId,egcut):\n    cutoff  = egcut\n\n    old_iter    = iterId-1\n    afile_old   = '%s/%02d/alpha_iter%02d.txt'%(write_potential_path,old_iter,old_iter)\n    afile_new   = '%s/%02d/alpha_iter%02d.txt'%(write_potential_path,iterId,iterId)\n\n    alpha_old   = loadtxt(afile_old)\n    alpha       = copy.copy(alpha_old)\n\n    separation_cut = 1000\n\n    dalpha                      = loadtxt('../../../../analysis_code/chr_chr/iter_num/%02d/dalpha.iter%02d.cutEig%d_noIdeal.txt'%(old_iter,iterId,cutoff))\n\n    alpha[1:separation_cut]                         -= dalpha[1:separation_cut]*eta1\n    alpha[nIdeal:nIdeal+ncv_interTAD_intraChrom]    -= dalpha[nIdeal:nIdeal+ncv_interTAD_intraChrom]*eta2\n    alpha[nIdeal+ncv_interTAD_intraChrom:]          -= dalpha[nIdeal+ncv_interTAD_intraChrom:]*eta3\n\n    savetxt(afile_new, alpha, fmt='%15.12e')\n\n    ## Update the intra-chrom potential\n    fo = open('ideal_chromosome_iter%02d.txt'%(iterId), 'w')\n    fo.write('%8d '%(0))\n    fo.write('%12.6f '%(0))\n    fo.write('\\n')\n    for ib in range(nIdeal):\n        fo.write('%8d '%(ib+1))\n        if ib<chop_ideals:\n            fo.write('%12.6f '%(alpha[ib]))\n        else:\n            fo.write('%12.6f '%(0.0))\n        fo.write('\\n')\n    fo.close()\n    \n    ## Update the compt-compt potential\n    eij_intraTAD_intraChrom = [0.0,0.0,0.0,0.0,0.0,0.0,0.0,0.0,0.0,0.0]\n    eij_interTAD_intraChrom = alpha[nIdeal:nIdeal+ncv_interTAD_intraChrom]\n    eij_interTAD_interChrom = copy.deepcopy(eij_interTAD_intraChrom)\n    fo = open('eij_compartment_uniform_iter%02d.txt'%(iterId), 'w')\n    icv = 0\n    for ic in range(ncompt+1):\n        for jc in range(ic, ncompt+1):\n            if ic < ncompt and jc < ncompt:\n                if ic == ncompt-1 or jc == ncompt-1:\n                    fo.write('pair_coeff      %4d %4d  tanhlr/cut/domainab    %12.6f %12.6f %12.6f ${rctanh}  ${sigmatanh}\\n'\\\n                        %(ic+1, jc+1, eij_intraTAD_intraChrom[icv],\\\n                            eij_interTAD_intraChrom[icv], eij_interTAD_interChrom[icv]))\n                else:\n                    fo.write('pair_coeff      %4d %4d  tanhlr/cut/domainab    %12.6f %12.6f %12.6f ${rctanh}  ${sigmatanh}\\n'\\\n                        %(ic+1,jc+1,eij_intraTAD_intraChrom[icv],eij_interTAD_intraChrom[icv],eij_interTAD_interChrom[icv]))\n                icv += 1\n            else:\n                fo.write('pair_coeff      %4d %4d  tanhlr/cut/domainab    %12.6f %12.6f %12.6f ${rctanh}  ${sigmatanh}\\n'\\\n                    %(ic+1,jc+1,0.0,0.0,0.0))\n    fo.close()\n\n    ## Update the inter-chrom potential\n    fo = open('inter_chromosome_iter%02d.txt'%(iterId), 'w')\n    icv = 2495\n    for ic in range(1,22,1):\n        for jc in range(ic+1,23,1):\n            fo.write('%d %d %12.6f\\n'%(ic,jc,alpha[icv]))\n            icv += 1",
      "metadata": {},
      "execution_count": null,
      "outputs": []
    },
    {
      "cell_type": "code",
      "source": "if __name__ == \"__main__\":\n\n    run_path    = sys.argv[1]\n    iterId      = int(sys.argv[2])\n    eigcutoff   = int(sys.argv[3])\n    write_potential_path    = \"%s/examples/HFF_100KB/potential\"%run_path\n    os.chdir(\"%s/%02d\"%(write_potential_path,iterId))\n\n    eta1        = float(sys.argv[4])\n    eta2        = float(sys.argv[5])\n    eta3        = float(sys.argv[6])\n    chop_ideals = int(sys.argv[7])\n\n    update_alpha(iterId,eigcutoff)",
      "metadata": {},
      "execution_count": null,
      "outputs": []
    }
  ]
}