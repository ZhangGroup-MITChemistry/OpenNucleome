{
  "metadata": {
    "language_info": {
      "name": ""
    },
    "kernelspec": {
      "name": "python",
      "display_name": "Python (Pyodide)",
      "language": "python"
    }
  },
  "nbformat_minor": 4,
  "nbformat": 4,
  "cells": [
    {
      "cell_type": "code",
      "source": "from __future__ import print_function\nimport simtk.openmm as mm\nimport simtk.openmm.app as mmapp\nimport simtk.unit as u\nimport numpy as np\nimport os\nimport parmed as pmd\nimport json\nimport sys\nfrom sys import platform\nimport mdtraj as md\nimport mdtraj.reporters\nfrom openChrModel import openChrModel #put openChrModel.py and this simulation.py in the same folder, otherwise, need to import sys and use sys.path to go the openChrModel.py folder",
      "metadata": {},
      "execution_count": null,
      "outputs": []
    },
    {
      "cell_type": "code",
      "source": "######################\n## initialize the system\nmodel = openChrModel(1.0, 0.1, 0.005, 1.0)\nPDBFile = \"human.pdb\"\nICFile = \"ideal_chromosome.txt\"\nTypesTable = \"eij_compartment_uniform.txt\"\nrescalarFile = \"nuc_rescaling.txt\"\nTSA = \"TSA_8900.txt\" #contains 300 nucleoli beads, 600 speckle beads, and 8000 lamina beads, 8900=300+600+8000\nDAM_ID = \"DamID_8900.txt\"\nInterFile = 'inter_chromosome.txt'\nmodel.createSystem(PDBFile) #generate new elements and construct topology as well\nradius_of_nucleus = 13.0",
      "metadata": {},
      "execution_count": null,
      "outputs": []
    },
    {
      "cell_type": "code",
      "source": "######################\n## add force field\nmodel.addClass2Bond()\nmodel.addAngleForce()\nmodel.addSoftCore()\nmodel.addIdealPotential(ICFile)\nmodel.addType2TypePotential(TypesTable)\nmodel.addLJplain()\nmodel.addLJNuc()\nmodel.addSpeLJ()\nmodel.addNAD(rescalarFile)\nmodel.addTSA(TSA)\nmodel.add_p_DamID(DAM_ID)\nmodel.addparticle_hw()\nmodel.addinter_chrom(InterFile)",
      "metadata": {},
      "execution_count": null,
      "outputs": []
    },
    {
      "cell_type": "code",
      "source": "######################\n## perform simulation, in this example, total step = 3,000,000, output to dcd every 2000 steps\nsimulation = model.createSimulation(platform_type = \"CUDA\")\nsimulation.context.setPositions(model.chrPositions) \n\nstate = simulation.context.getState(getPositions=True)\nnp.savetxt('bead_position.txt',np.array(state.getPositions().value_in_unit(u.nanometer)), fmt='%.6f')\n#simulation.minimizeEnergy()\n\nsimulation.reporters.append(mdtraj.reporters.DCDReporter('HFF_3e6_every2000.dcd', 2000))\n#simulation.context.setPositions(model.chrPositions) #assign a new configuration as the initial configuration, different from the pdb file.\n\ndef setVelocity(context):\n    sigma = u.sqrt(1.0*u.kilojoule_per_mole / model.chrSystem.getParticleMass(1)) \n    velocs = u.Quantity(1.0 * np.random.normal(size=(model.chrSystem.getNumParticles(), 3)), u.meter) * (sigma / u.meter)\n    context.setVelocities(velocs) \nsetVelocity(simulation.context)",
      "metadata": {},
      "execution_count": null,
      "outputs": []
    },
    {
      "cell_type": "code",
      "source": "######################\n## perform simulation, and output the energy (similar to thermo in lammps) every 2000 steps\nsimulation.reporters.append(mmapp.statedatareporter.StateDataReporter(sys.stdout, 2000, step=True, \n    potentialEnergy=True, kineticEnergy=True, temperature=True, progress=True, remainingTime=True, separator='\\t', totalSteps = 3000000))\n\nfor i in range(1500):\n    simulation.step(2000)\n    state = simulation.context.getState(getPositions=True)\n    if (np.amax(np.sqrt(np.sum(np.array(state.getPositions().value_in_unit(u.nanometer))**2, axis=1))) > 13.1):\n        break\n    print(\"Bonding potential:\", simulation.context.getState(getEnergy=True, groups={10}).getPotentialEnergy() / u.kilojoule_per_mole)\n    print(\"Softcore potential:\", simulation.context.getState(getEnergy=True, groups={11}).getPotentialEnergy() / u.kilojoule_per_mole)\n    print(\"Ideal(intra) potential:\", simulation.context.getState(getEnergy=True, groups={12}).getPotentialEnergy() / u.kilojoule_per_mole)\n    print(\"Compt-Compt potential:\", simulation.context.getState(getEnergy=True, groups={13}).getPotentialEnergy() / u.kilojoule_per_mole)\n    print(\"Hardwall:\", simulation.context.getState(getEnergy=True, groups={14}).getPotentialEnergy() / u.kilojoule_per_mole)\n    print(\"Nuc-Spec:\", simulation.context.getState(getEnergy=True, groups={15}).getPotentialEnergy() / u.kilojoule_per_mole)\n    print(\"Nuc-Nuc:\", simulation.context.getState(getEnergy=True, groups={16}).getPotentialEnergy() / u.kilojoule_per_mole)\n    print(\"Spec-Spec:\", simulation.context.getState(getEnergy=True, groups={17}).getPotentialEnergy() / u.kilojoule_per_mole)\n    print(\"Nuc-Chr:\", simulation.context.getState(getEnergy=True, groups={18}).getPotentialEnergy() / u.kilojoule_per_mole)\n    print(\"Spec-Chr:\", simulation.context.getState(getEnergy=True, groups={19}).getPotentialEnergy() / u.kilojoule_per_mole)\n    print(\"Chr-Lamina:\", simulation.context.getState(getEnergy=True, groups={20}).getPotentialEnergy() / u.kilojoule_per_mole)\n    print(\"Inter potential:\", simulation.context.getState(getEnergy=True, groups={21}).getPotentialEnergy() / u.kilojoule_per_mole)",
      "metadata": {},
      "execution_count": null,
      "outputs": []
    }
  ]
}